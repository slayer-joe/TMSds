{
 "cells": [
  {
   "cell_type": "code",
   "execution_count": 3,
   "metadata": {},
   "outputs": [
    {
     "data": {
      "text/plain": [
       "['Robin', 'Singh']"
      ]
     },
     "execution_count": 3,
     "metadata": {},
     "output_type": "execute_result"
    }
   ],
   "source": [
    "# 1. Напишите функцию для разделения строки и преобразования ее в список\n",
    "# слов. Пример \"Robin Singh\" ==> [\"Robin\", \"Singh\"]\n",
    "\n",
    "def split_str(str):\n",
    "    return str.split(\" \")\n",
    "\n",
    "split_str(\"Robin Singh\")"
   ]
  },
  {
   "cell_type": "code",
   "execution_count": 20,
   "metadata": {},
   "outputs": [
    {
     "data": {
      "text/plain": [
       "2"
      ]
     },
     "execution_count": 20,
     "metadata": {},
     "output_type": "execute_result"
    }
   ],
   "source": [
    "# 2. Натан любит кататься на велосипеде. Поскольку Натан знает, как важно\n",
    "# избегать обезвоживания, он выпивает 0,5 литра воды за час езды на\n",
    "# велосипеде. Вам дано время в часах, и вам нужно вернуть количество\n",
    "# литров, которое выпьет Натан, округленное до наименьшего значения.\n",
    "# Пример time = 3 ----> litres = 1\n",
    "\n",
    "import math\n",
    "\n",
    "def ltr_per_time(hours):\n",
    "    return math.floor(0.5 * hours)\n",
    "\n",
    "ltr_per_time(5)"
   ]
  },
  {
   "cell_type": "code",
   "execution_count": 6,
   "metadata": {},
   "outputs": [
    {
     "data": {
      "text/plain": [
       "[21, 20, 19, 18, 17, 16, 15, 14, 13, 12, 11, 10, 9, 8, 7, 6, 5, 4, 3, 2, 1]"
      ]
     },
     "execution_count": 6,
     "metadata": {},
     "output_type": "execute_result"
    }
   ],
   "source": [
    "#  Создайте функцию, которая возвращает список целых чисел от n до 1,\n",
    "# где n>0. Пример: n=5-->[5,4,3,2,1]\n",
    "\n",
    "def numb_list(n):\n",
    "    return list(range(n, 0, -1))\n",
    "\n",
    "numb_list(21)"
   ]
  },
  {
   "cell_type": "code",
   "execution_count": 29,
   "metadata": {},
   "outputs": [
    {
     "data": {
      "text/plain": [
       "1"
      ]
     },
     "execution_count": 29,
     "metadata": {},
     "output_type": "execute_result"
    }
   ],
   "source": [
    "# Учитывая год, верните столетие, в котором он находится.\n",
    "# Пример 1705 --> 18 1900 --> 19 1601 --> 17\n",
    "\n",
    "def year_century(year):\n",
    "    if(year < 100): return 0\n",
    "    century_str = str(year)[:-2:]\n",
    "    decades = str(year)[-2] + str(year)[-1]\n",
    "    if decades != '00':\n",
    "        return int(century_str) + 1\n",
    "    else:\n",
    "        return int(century_str)\n",
    "\n",
    "year_century(100)"
   ]
  },
  {
   "cell_type": "code",
   "execution_count": 42,
   "metadata": {},
   "outputs": [
    {
     "data": {
      "text/plain": [
       "['5', '4', '6', '7', '5', '6', '9', '8', '5', '6', '6', '4', '3', '1']"
      ]
     },
     "execution_count": 42,
     "metadata": {},
     "output_type": "execute_result"
    }
   ],
   "source": [
    "# 5. Учитывая случайное неотрицательное число, вам необходимо вернуть\n",
    "# цифры этого числа в массиве в обратном порядке. 35231 => [1,3,2,5,3]\n",
    "\n",
    "def rvrs_number(number):\n",
    "    return list(str(number))[::-1]\n",
    "rvrs_number(13466589657645)\n"
   ]
  },
  {
   "cell_type": "code",
   "execution_count": 19,
   "metadata": {},
   "outputs": [
    {
     "data": {
      "text/plain": [
       "[[0, 8, 0, 8, 0, 8, 0, 8, 0],\n",
       " [1, 7, 1, 7, 1, 7, 1, 7, 1],\n",
       " [2, 6, 2, 6, 2, 6, 2, 6, 2],\n",
       " [3, 5, 3, 5, 3, 5, 3, 5, 3],\n",
       " [4, 4, 4, 4, 4, 4, 4, 4, 4],\n",
       " [5, 3, 5, 3, 5, 3, 5, 3, 5],\n",
       " [6, 2, 6, 2, 6, 2, 6, 2, 6],\n",
       " [7, 1, 7, 1, 7, 1, 7, 1, 7],\n",
       " [8, 0, 8, 0, 8, 0, 8, 0, 8]]"
      ]
     },
     "execution_count": 19,
     "metadata": {},
     "output_type": "execute_result"
    }
   ],
   "source": [
    "# Получить квадратные матрицы порядка n (через список как на\n",
    "# занятии), элементами которых являются заданные\n",
    "# действительные числа 1, 2, ..., n*n, расположенные в ней по схемам,\n",
    "# которые приведены на рисунках\n",
    "\n",
    "import numpy as np\n",
    "\n",
    "def rvrsd_matrix(n, rvrs_type = 'row'):\n",
    "    if n < 1: return\n",
    "    matrix = []\n",
    "    for i in range(n + 1):\n",
    "        if i % 2 == 0:\n",
    "            matrix.append(list(range(n + 1)))\n",
    "        else:\n",
    "            matrix.append(list(range(n + 1))[::-1])\n",
    "    if rvrs_type == 'col':\n",
    "        matr_arr = np.array(matrix)\n",
    "        return np.rot90(matr_arr, k=3).tolist()\n",
    "    else:\n",
    "        return matrix\n",
    "\n",
    "# row reverse\n",
    "rvrsd_matrix(8)\n",
    "\n",
    "# column reverse\n",
    "rvrsd_matrix(8, 'col')\n",
    "\n",
    "\n"
   ]
  }
 ],
 "metadata": {
  "kernelspec": {
   "display_name": "Python 3",
   "language": "python",
   "name": "python3"
  },
  "language_info": {
   "codemirror_mode": {
    "name": "ipython",
    "version": 3
   },
   "file_extension": ".py",
   "mimetype": "text/x-python",
   "name": "python",
   "nbconvert_exporter": "python",
   "pygments_lexer": "ipython3",
   "version": "3.12.1"
  }
 },
 "nbformat": 4,
 "nbformat_minor": 2
}
