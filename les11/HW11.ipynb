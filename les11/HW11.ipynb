{
 "cells": [
  {
   "cell_type": "code",
   "execution_count": 3,
   "metadata": {},
   "outputs": [],
   "source": [
    "import numpy as np"
   ]
  },
  {
   "cell_type": "code",
   "execution_count": 4,
   "metadata": {},
   "outputs": [
    {
     "name": "stdout",
     "output_type": "stream",
     "text": [
      "188\n",
      "-543\n",
      "36\n",
      "408\n",
      "-288\n",
      "96\n",
      "160\n",
      "-288\n"
     ]
    }
   ],
   "source": [
    "# Вычислить определители матриц, прорешал на листке\n",
    "\n",
    "matrix = np.array([\n",
    "    [4, 0, 4, 5],\n",
    "    [0, 1, 5, 6],\n",
    "    [-2, 2, 2, 0],\n",
    "    [1, -5, 1, 3]\n",
    "])\n",
    "d = round(np.linalg.det(matrix))\n",
    "print(d)\n",
    "\n",
    "matrix_2 = np.array([\n",
    "    [5, 0, 1, 3],\n",
    "    [0, 1, 5, -1],\n",
    "    [7, -1, 3, -2],\n",
    "    [5, 3, 0, 1]\n",
    "])\n",
    "d = round(np.linalg.det(matrix_2))\n",
    "print(d)\n",
    "\n",
    "matrix_3 = np.array([\n",
    "    [4, 0, 1, 5],\n",
    "    [1, 1, 0, 4],\n",
    "    [0, 1, 1, 5],\n",
    "    [6, -4, 1, 1]\n",
    "])\n",
    "d = round(np.linalg.det(matrix_3))\n",
    "print(d)\n",
    "\n",
    "matrix_4 = np.array([\n",
    "    [5, 1, 3, 0],\n",
    "    [-3, 0, 5, 2],\n",
    "    [2, 1, -1, 3],\n",
    "    [1, 5, 0, 7]\n",
    "])\n",
    "d = round(np.linalg.det(matrix_4))\n",
    "print(d)\n",
    "\n",
    "matrix_5 = np.array([\n",
    "    [7, 6, 0, 1],\n",
    "    [1, 3, 5, 0],\n",
    "    [0, 1, -2, 4],\n",
    "    [1, 1, 2, 3]\n",
    "])\n",
    "d = round(np.linalg.det(matrix_5))\n",
    "print(d)\n",
    "\n",
    "matrix_6 = np.array([\n",
    "    [2, 3, 0, 1],\n",
    "    [-4, 0, 3, 1],\n",
    "    [0, 8, 7, 5],\n",
    "    [3, 3, 4, 5]\n",
    "])\n",
    "d = round(np.linalg.det(matrix_6))\n",
    "print(d)\n",
    "\n",
    "matrix_7 = np.array([\n",
    "    [3, 1, 3, 1],\n",
    "    [2, 4, 2, 5],\n",
    "    [1, 4, 5, 3],\n",
    "    [-1, 0, 3, 2]\n",
    "])\n",
    "d = round(np.linalg.det(matrix_7))\n",
    "print(d)\n",
    "\n",
    "matrix_8 = np.array([\n",
    "    [7, 6, 0, 1],\n",
    "    [1, 3, 5, 0],\n",
    "    [0, 1, -2, 4],\n",
    "    [1, 1, 2, 3]\n",
    "])\n",
    "d = round(np.linalg.det(matrix_8))\n",
    "print(d)\n"
   ]
  },
  {
   "cell_type": "code",
   "execution_count": 5,
   "metadata": {},
   "outputs": [
    {
     "name": "stdout",
     "output_type": "stream",
     "text": [
      "Summ of matrix: \n",
      " [[ 0  2  7]\n",
      " [ 9 -1 -1]\n",
      " [ 5  2  8]]\n",
      "Subsctraction: \n",
      " [[ 2  2  1]\n",
      " [ 5 11 -3]\n",
      " [-9  0 -2]]\n",
      "Multiplication A and B Matrix: \n",
      " [[ 31  -8  25]\n",
      " [-11 -32  16]\n",
      " [ 25  -3  10]]\n",
      "Multiplication A, B and C Matrix: \n",
      " [[ 81  68]\n",
      " [  6 -49]\n",
      " [  8  65]]\n"
     ]
    }
   ],
   "source": [
    "# Операции над матрицами, на примере одного варианта\n",
    "\n",
    "A = np.array([\n",
    "    [1, 2, 4],\n",
    "    [7, 5, -2],\n",
    "    [-2, 1, 3]\n",
    "])\n",
    "\n",
    "B = np.array([\n",
    "    [-1, 0, 3],\n",
    "    [2, -6, 1],\n",
    "    [7, 1, 5]\n",
    "])\n",
    "\n",
    "C = np.array([\n",
    "    [-2, 3],\n",
    "    [4, 0],\n",
    "    [7, -1]\n",
    "])\n",
    "\n",
    "summ = np.add(A, B)\n",
    "subst = np.subtract(A, B)\n",
    "multip_ab = np.dot(A, B)\n",
    "multip_abc = np.dot(multip_ab, C)\n",
    "\n",
    "print( f'Summ of matrix: \\n {summ}')\n",
    "print(f'Subsctraction: \\n {subst}')\n",
    "print(f'Multiplication A and B Matrix: \\n {multip_ab}')\n",
    "print(f'Multiplication A, B and C Matrix: \\n {multip_abc}')"
   ]
  },
  {
   "cell_type": "code",
   "execution_count": null,
   "metadata": {},
   "outputs": [],
   "source": [
    "# Реализация свертки\n",
    "\n",
    "import matplotlib.pyplot as plt\n"
   ]
  }
 ],
 "metadata": {
  "kernelspec": {
   "display_name": "Python 3",
   "language": "python",
   "name": "python3"
  },
  "language_info": {
   "codemirror_mode": {
    "name": "ipython",
    "version": 3
   },
   "file_extension": ".py",
   "mimetype": "text/x-python",
   "name": "python",
   "nbconvert_exporter": "python",
   "pygments_lexer": "ipython3",
   "version": "3.12.1"
  }
 },
 "nbformat": 4,
 "nbformat_minor": 2
}
