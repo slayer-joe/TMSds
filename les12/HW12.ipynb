{
 "cells": [
  {
   "cell_type": "code",
   "execution_count": 14,
   "metadata": {},
   "outputs": [],
   "source": [
    "import numpy as np\n",
    "from scipy.special import perm, comb, factorial"
   ]
  },
  {
   "cell_type": "code",
   "execution_count": 25,
   "metadata": {},
   "outputs": [
    {
     "data": {
      "text/plain": [
       "24360.0"
      ]
     },
     "execution_count": 25,
     "metadata": {},
     "output_type": "execute_result"
    }
   ],
   "source": [
    "# В группе 30 студентов. Необходимо выбрать старосту, заместителя старосты и\n",
    "# профорга. Сколько существует способов это сделать?\n",
    "\n",
    "n = 30\n",
    "k = 3\n",
    "\n",
    "perm(n, k)"
   ]
  },
  {
   "cell_type": "code",
   "execution_count": 26,
   "metadata": {},
   "outputs": [
    {
     "data": {
      "text/plain": [
       "1024"
      ]
     },
     "execution_count": 26,
     "metadata": {},
     "output_type": "execute_result"
    }
   ],
   "source": [
    "# Два почтальона должны разнести 10 писем по 10 адресам. Сколькими\n",
    "# способами они могут распределить работу?\n",
    "\n",
    "n = 10\n",
    "k = 2\n",
    "\n",
    "k**n"
   ]
  },
  {
   "cell_type": "code",
   "execution_count": 27,
   "metadata": {},
   "outputs": [
    {
     "data": {
      "text/plain": [
       "80"
      ]
     },
     "execution_count": 27,
     "metadata": {},
     "output_type": "execute_result"
    }
   ],
   "source": [
    "# В ящике 100 деталей, из них 30 – деталей 1-го сорта, 50 – 2-го, остальные – 3-\n",
    "# го. Сколько существует способов извлечения из ящика одной детали 1-го или 2-го сорта? т.е. \n",
    "# какова вероятность достать деталь первого или второго сорта\n",
    "\n",
    "\n",
    "s1 = 30\n",
    "s2 = 50\n",
    "\n",
    "s1 + s2"
   ]
  },
  {
   "cell_type": "code",
   "execution_count": 18,
   "metadata": {},
   "outputs": [
    {
     "data": {
      "text/plain": [
       "5040"
      ]
     },
     "execution_count": 18,
     "metadata": {},
     "output_type": "execute_result"
    }
   ],
   "source": [
    "# Порядок выступления 7 участников конкурса определяется жребием. Сколько\n",
    "# различных вариантов жеребьевки при этом возможно?\n",
    "\n",
    "n = 7\n",
    "\n",
    "factorial(n, exact=True)\n"
   ]
  },
  {
   "cell_type": "code",
   "execution_count": 28,
   "metadata": {},
   "outputs": [
    {
     "data": {
      "text/plain": [
       "100000"
      ]
     },
     "execution_count": 28,
     "metadata": {},
     "output_type": "execute_result"
    }
   ],
   "source": [
    "# В конкурсе по 5 номинациям участвуют 10 кинофильмов. Сколько существует\n",
    "# вариантов распределения призов, если по всем номинациям установлены различные\n",
    "# премии?\n",
    "\n",
    "n = 10\n",
    "k = 5\n",
    "\n",
    "n**k"
   ]
  },
  {
   "cell_type": "code",
   "execution_count": 29,
   "metadata": {},
   "outputs": [
    {
     "data": {
      "text/plain": [
       "120"
      ]
     },
     "execution_count": 29,
     "metadata": {},
     "output_type": "execute_result"
    }
   ],
   "source": [
    "# В шахматном турнире участвуют 16 человек. Сколько партий должно быть\n",
    "# сыграно в турнире, если между любыми двумя участниками должна быть сыграна одна\n",
    "# партия?\n",
    "\n",
    "n = 16\n",
    "k = 2\n",
    "\n",
    "comb(n, k, exact= True)"
   ]
  },
  {
   "cell_type": "code",
   "execution_count": 30,
   "metadata": {},
   "outputs": [
    {
     "data": {
      "text/plain": [
       "2002"
      ]
     },
     "execution_count": 30,
     "metadata": {},
     "output_type": "execute_result"
    }
   ],
   "source": [
    "# В условиях задачи 6 определить, сколько существует вариантов распределения\n",
    "# призов, если по всем номинациям установлены одинаковые призы?\n",
    "\n",
    "k = np.array(5)\n",
    "n = np.array(10)\n",
    "comb(n, k, exact=True, repetition=True)"
   ]
  },
  {
   "cell_type": "markdown",
   "metadata": {},
   "source": [
    "Классическая вероятностная модель"
   ]
  },
  {
   "cell_type": "code",
   "execution_count": 34,
   "metadata": {},
   "outputs": [
    {
     "data": {
      "text/plain": [
       "0.12"
      ]
     },
     "execution_count": 34,
     "metadata": {},
     "output_type": "execute_result"
    }
   ],
   "source": [
    "# В ящике 5 апельсинов и 4 яблока. Наудачу выбираются 3 фрукта. Какова\n",
    "# вероятность, что все три фрукта – апельсины?\n",
    "\n",
    "pr = (5/9) * (4/8) * (3/7) # перемножаем вероятности достать апельсин в каждой попытке\n",
    "round(pr, 2)"
   ]
  },
  {
   "cell_type": "markdown",
   "metadata": {},
   "source": [
    "Основные формулы теории вероятностей"
   ]
  },
  {
   "cell_type": "code",
   "execution_count": 37,
   "metadata": {},
   "outputs": [
    {
     "data": {
      "text/plain": [
       "0.08888888888888888"
      ]
     },
     "execution_count": 37,
     "metadata": {},
     "output_type": "execute_result"
    }
   ],
   "source": [
    "\n",
    "#В ящике 10 красных и 5 синих пуговиц. Вынимаются наудачу две пуговицы. \n",
    "# Какова вероятность, что пуговицы будут одноцветными? \n",
    "\n"
   ]
  },
  {
   "cell_type": "code",
   "execution_count": null,
   "metadata": {},
   "outputs": [],
   "source": [
    "# Среди сотрудников фирмы 28% знают английский язык, 30% – немецкий, 42% – \n",
    "# французский; английский и немецкий – 8%, английский и французский – 10%, немецкий и\n",
    "# французский – 5%, все три языка – 3%. Найти вероятность того, что случайно выбранный\n",
    "# сотрудник фирмы: а) знает английский или немецкий; б) знает английский, немецкий или\n",
    "# французский; в) не знает ни один из перечисленных языков.\n",
    "\n"
   ]
  },
  {
   "cell_type": "code",
   "execution_count": 35,
   "metadata": {},
   "outputs": [
    {
     "data": {
      "text/plain": [
       "0.5"
      ]
     },
     "execution_count": 35,
     "metadata": {},
     "output_type": "execute_result"
    }
   ],
   "source": [
    "# Задача 3. В семье – двое детей. Какова вероятность, что старший ребенок – мальчик, если\n",
    "# известно, что в семье есть дети обоего пола?\n",
    "\n",
    "1/2"
   ]
  }
 ],
 "metadata": {
  "kernelspec": {
   "display_name": "Python 3",
   "language": "python",
   "name": "python3"
  },
  "language_info": {
   "codemirror_mode": {
    "name": "ipython",
    "version": 3
   },
   "file_extension": ".py",
   "mimetype": "text/x-python",
   "name": "python",
   "nbconvert_exporter": "python",
   "pygments_lexer": "ipython3",
   "version": "3.12.1"
  }
 },
 "nbformat": 4,
 "nbformat_minor": 2
}
