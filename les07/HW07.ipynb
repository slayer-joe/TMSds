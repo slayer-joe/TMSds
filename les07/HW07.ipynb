{
 "cells": [
  {
   "cell_type": "code",
   "execution_count": 20,
   "metadata": {},
   "outputs": [
    {
     "name": "stdout",
     "output_type": "stream",
     "text": [
      "Result of summation - 12,25\n",
      "Result of substraction - -3,0199999999999996\n",
      "Result of multiplication - 2,5\n",
      "Result of division - 2,642352941176471\n",
      "First value is bigger than second\n"
     ]
    }
   ],
   "source": [
    "class Money:\n",
    "\n",
    "    def _num_conversion(self, val_list):\n",
    "        int_val = str(val_list[0])\n",
    "        fract_val = val_list[1]\n",
    "        if fract_val < 10 and fract_val >= 0:\n",
    "            fract_val = '0' + str(fract_val)\n",
    "        elif fract_val < 0:\n",
    "            fract_val = str(fract_val * -1)\n",
    "        else:\n",
    "            fract_val = str(fract_val)\n",
    "        return (float(int_val + '.' + fract_val))\n",
    "\n",
    "\n",
    "    def sum(self, first_val, comp_val = 0):\n",
    "        result = self._num_conversion(first_val) + self._num_conversion(comp_val)\n",
    "        print(f\"Result of summation - {str(result).replace(\".\", \",\")}\")\n",
    "        return  result\n",
    "\n",
    "    def subs(self, first_val, comp_val = 0):\n",
    "        result =   self._num_conversion(first_val) - self._num_conversion(comp_val)\n",
    "        print(f\"Result of substraction - {str(result).replace(\".\", \",\")}\")\n",
    "        return result\n",
    "    \n",
    "    def multplic(self, first_val, comp_val = 1):\n",
    "        result =   self._num_conversion(first_val) * self._num_conversion(comp_val)\n",
    "        print(f\"Result of multiplication - {str(result).replace(\".\", \",\")}\")\n",
    "        return result\n",
    "    \n",
    "    def division(self, first_val, comp_val = 1):\n",
    "        result =   self._num_conversion(first_val) / self._num_conversion(comp_val)\n",
    "        print(f\"Result of division - {str(result).replace(\".\", \",\")}\")\n",
    "        return result\n",
    "    \n",
    "    def compare(self, first_val, comp_val = 0):\n",
    "        if self._num_conversion(first_val) > self._num_conversion(comp_val):\n",
    "            print(f\"First value is bigger than second\")\n",
    "        elif self._num_conversion(first_val) == self._num_conversion(comp_val):\n",
    "            print(f\"The values are equal\")\n",
    "        else:\n",
    "            print(f\"Second value is bigger than first\")\n",
    "\n",
    "mon = Money()\n",
    "\n",
    "mon.sum([11, 23], [1, 2])\n",
    "mon.subs([11, 23], [14, 25])\n",
    "mon.multplic([1, 25], [2, 0])\n",
    "mon.division([11, 23], [4, 25])\n",
    "mon.compare([11, 1], [8, -2])\n",
    "\n",
    "    "
   ]
  },
  {
   "cell_type": "code",
   "execution_count": 35,
   "metadata": {},
   "outputs": [
    {
     "name": "stdout",
     "output_type": "stream",
     "text": [
      "Sum of matrixs = [[11, 14, 4], [16, 12, 9], [11, 13, 19]]\n",
      "Result of multiplication of matrix and scolar value = [[18, 21, 9], [12, 15, 18], [21, 24, 27]]\n"
     ]
    }
   ],
   "source": [
    "class Matrix:\n",
    "\n",
    "    def matrix_sum(self, first_mat, second_mat):\n",
    "        matrix = []\n",
    "        for i in range(len(first_mat)): \n",
    "            row = []\n",
    "            for j in range(len(first_mat[0])): \n",
    "                    row.append(first_mat[i][j] + second_mat[i][j]) \n",
    "            matrix.append(row)\n",
    "        print(f\"Sum of matrixs = {matrix}\")\n",
    "        return matrix \n",
    "    \n",
    "    def matrix_mult(self, matrix, scolar_val):\n",
    "        for i in range(len(matrix)): \n",
    "            for j in range(len(matrix[0])): \n",
    "                matrix[i][j] = matrix[i][j] * scolar_val\n",
    "        print(f\"Result of multiplication of matrix and scolar value = {matrix}\")\n",
    "        return matrix           \n",
    "\n",
    "\n",
    "matrix = Matrix()\n",
    "\n",
    "a = [[6,7,3], [4,5,6], [7,8,9]] \n",
    "b = [[5,7,1], [12,7,3], [4,5,10]] \n",
    "\n",
    "matrix.matrix_sum(a, b)\n",
    "matrix.matrix_mult(a, 3)"
   ]
  }
 ],
 "metadata": {
  "kernelspec": {
   "display_name": "Python 3",
   "language": "python",
   "name": "python3"
  },
  "language_info": {
   "codemirror_mode": {
    "name": "ipython",
    "version": 3
   },
   "file_extension": ".py",
   "mimetype": "text/x-python",
   "name": "python",
   "nbconvert_exporter": "python",
   "pygments_lexer": "ipython3",
   "version": "3.12.1"
  }
 },
 "nbformat": 4,
 "nbformat_minor": 2
}
