{
 "cells": [
  {
   "cell_type": "code",
   "execution_count": 6,
   "metadata": {},
   "outputs": [],
   "source": [
    "import sqlalchemy as db"
   ]
  },
  {
   "cell_type": "code",
   "execution_count": 3,
   "metadata": {},
   "outputs": [],
   "source": [
    "engine = db.create_engine('sqlite:///mydb.db')"
   ]
  },
  {
   "cell_type": "code",
   "execution_count": 4,
   "metadata": {},
   "outputs": [],
   "source": [
    "conn = engine.connect()"
   ]
  },
  {
   "cell_type": "code",
   "execution_count": 5,
   "metadata": {},
   "outputs": [],
   "source": [
    "metadata = db.MetaData()"
   ]
  },
  {
   "cell_type": "code",
   "execution_count": 7,
   "metadata": {},
   "outputs": [
    {
     "data": {
      "text/plain": [
       "Table('Passenger', MetaData(), Column('passenger_id', Integer(), table=<Passenger>, primary_key=True, nullable=False), Column('passenger_name', Text(), table=<Passenger>), schema=None)"
      ]
     },
     "execution_count": 7,
     "metadata": {},
     "output_type": "execute_result"
    }
   ],
   "source": [
    "passengers = db.Table(\n",
    "    'Passenger', metadata,\n",
    "    db.Column('passenger_id', db.Integer, primary_key=True),\n",
    "    db.Column('passenger_name', db.Text)\n",
    ")\n",
    "passengers"
   ]
  },
  {
   "cell_type": "code",
   "execution_count": 8,
   "metadata": {},
   "outputs": [
    {
     "data": {
      "text/plain": [
       "Table('pass_in_trip', MetaData(), Column('id', Integer(), table=<pass_in_trip>, primary_key=True, nullable=False), Column('trip', Integer(), table=<pass_in_trip>), Column('passenger', Integer(), table=<pass_in_trip>), Column('place', Text(), table=<pass_in_trip>), schema=None)"
      ]
     },
     "execution_count": 8,
     "metadata": {},
     "output_type": "execute_result"
    }
   ],
   "source": [
    "pass_in_trip = db.Table(\n",
    "    'pass_in_trip', metadata,\n",
    "    db.Column('id', db.Integer, primary_key=True),\n",
    "    db.Column('trip', db.Integer),\n",
    "    db.Column('passenger', db.Integer),\n",
    "    db.Column('place', db.Text)\n",
    ")\n",
    "pass_in_trip"
   ]
  },
  {
   "cell_type": "code",
   "execution_count": 9,
   "metadata": {},
   "outputs": [
    {
     "data": {
      "text/plain": [
       "Table('trip', MetaData(), Column('id', Integer(), table=<trip>, primary_key=True, nullable=False), Column('company', Text(), table=<trip>), Column('plane', Text(), table=<trip>), Column('town_from', Text(), table=<trip>), Column('town_to', Text(), table=<trip>), Column('time_out', Date(), table=<trip>), Column('time_in', Date(), table=<trip>), schema=None)"
      ]
     },
     "execution_count": 9,
     "metadata": {},
     "output_type": "execute_result"
    }
   ],
   "source": [
    "trip = db.Table(\n",
    "    'trip', metadata,\n",
    "    db.Column('id', db.Integer, primary_key=True),\n",
    "    db.Column('company', db.Text),\n",
    "    db.Column('plane', db.Text),\n",
    "    db.Column('town_from', db.Text),\n",
    "    db.Column('town_to', db.Text),\n",
    "    db.Column('time_out', db.Date),\n",
    "    db.Column('time_in', db.Date)\n",
    ")\n",
    "trip"
   ]
  },
  {
   "cell_type": "code",
   "execution_count": 10,
   "metadata": {},
   "outputs": [
    {
     "data": {
      "text/plain": [
       "Table('company', MetaData(), Column('id', Integer(), table=<company>, primary_key=True, nullable=False), Column('name', Text(), table=<company>), schema=None)"
      ]
     },
     "execution_count": 10,
     "metadata": {},
     "output_type": "execute_result"
    }
   ],
   "source": [
    "company = db.Table(\n",
    "    'company', metadata,\n",
    "    db.Column('id', db.Integer, primary_key=True),\n",
    "    db.Column('name', db.Text)\n",
    ")\n",
    "company"
   ]
  },
  {
   "cell_type": "code",
   "execution_count": 11,
   "metadata": {},
   "outputs": [],
   "source": [
    "metadata.create_all(engine)"
   ]
  },
  {
   "cell_type": "code",
   "execution_count": 56,
   "metadata": {},
   "outputs": [
    {
     "data": {
      "text/plain": [
       "[(1, 'John'),\n",
       " (2, 'Ryan'),\n",
       " (3, 'Matt'),\n",
       " (4, 'Eliad'),\n",
       " (5, 'Diana'),\n",
       " (6, 'Andy'),\n",
       " (7, 'Thomas'),\n",
       " (8, 'Yael')]"
      ]
     },
     "execution_count": 56,
     "metadata": {},
     "output_type": "execute_result"
    }
   ],
   "source": [
    "passenger_insertion = passengers.insert().values([\n",
    "    {'passenger_id': 1, 'passenger_name': 'John'},\n",
    "    {'passenger_id': 2, 'passenger_name': 'Ryan'},\n",
    "    {'passenger_id': 3, 'passenger_name': 'Matt'},\n",
    "    {'passenger_id': 4, 'passenger_name': 'Eliad'},\n",
    "    {'passenger_id': 5, 'passenger_name': 'Diana'},\n",
    "    {'passenger_id': 6, 'passenger_name': 'Andy'},\n",
    "    {'passenger_id': 7, 'passenger_name': 'Thomas'},\n",
    "    {'passenger_id': 8, 'passenger_name': 'Yael'},\n",
    "  ])\n",
    "# conn.execute(passenger_insertion)\n",
    "select_all_passengers = db.select(passengers)\n",
    "passengers_result = conn.execute(select_all_passengers)\n",
    "passengers_result.fetchall()"
   ]
  },
  {
   "cell_type": "code",
   "execution_count": 30,
   "metadata": {},
   "outputs": [
    {
     "data": {
      "text/plain": [
       "[(1, 1, 1, 'Moscow'),\n",
       " (2, 2, 3, 'Kiev'),\n",
       " (3, 3, 6, 'Lisboa'),\n",
       " (4, 4, 4, 'Minsk'),\n",
       " (5, 5, 1, 'Berlin'),\n",
       " (6, 6, 8, 'Paris'),\n",
       " (7, 7, 5, 'Minsk'),\n",
       " (8, 8, 1, 'Vladivostok'),\n",
       " (9, 9, 3, 'Berlin'),\n",
       " (10, 10, 2, 'Moscow'),\n",
       " (11, 11, 4, 'Minsk'),\n",
       " (12, 12, 3, 'Paris'),\n",
       " (13, 13, 7, 'Lisboa'),\n",
       " (14, 14, 1, 'Paris')]"
      ]
     },
     "execution_count": 30,
     "metadata": {},
     "output_type": "execute_result"
    }
   ],
   "source": [
    "pass_in_trip_insertion = pass_in_trip.insert().values([\n",
    "    {'id': 1, 'trip': 1, 'passenger': 1, 'place': 'Moscow'},\n",
    "    {'id': 2, 'trip': 2, 'passenger': 3, 'place': 'Kiev'},\n",
    "    {'id': 3, 'trip': 3, 'passenger': 6, 'place': 'Lisboa'},\n",
    "    {'id': 4, 'trip': 4, 'passenger': 4, 'place': 'Minsk'},\n",
    "    {'id': 5, 'trip': 5, 'passenger': 1, 'place': 'Berlin'},\n",
    "    {'id': 6, 'trip': 6, 'passenger': 8, 'place': 'Paris'},\n",
    "    {'id': 7, 'trip': 7, 'passenger': 5, 'place': 'Minsk'},\n",
    "    {'id': 8, 'trip': 8, 'passenger': 1, 'place': 'Vladivostok'},\n",
    "    {'id': 9, 'trip': 9, 'passenger': 3, 'place': 'Berlin'},\n",
    "    {'id': 10, 'trip': 10, 'passenger': 2, 'place': 'Moscow'},\n",
    "    {'id': 11, 'trip': 11, 'passenger': 4, 'place': 'Minsk'},\n",
    "    {'id': 12, 'trip': 12, 'passenger': 3, 'place': 'Paris'},\n",
    "    {'id': 13, 'trip': 13, 'passenger': 7, 'place': 'Lisboa'},\n",
    "    {'id': 14, 'trip': 14, 'passenger': 1, 'place': 'Paris'}\n",
    "  ])\n",
    "# conn.execute(pass_in_trip_insertion)\n",
    "select_all_trips = db.select(pass_in_trip)\n",
    "trips_result = conn.execute(select_all_trips)\n",
    "trips_result.fetchall()\n"
   ]
  },
  {
   "cell_type": "code",
   "execution_count": 32,
   "metadata": {},
   "outputs": [
    {
     "data": {
      "text/plain": [
       "[(1, 'Belavia', 'Boeing 737', 'Moscow', 'Minsk', datetime.date(2022, 4, 21), datetime.date(2021, 4, 21)),\n",
       " (2, 'Belavia', 'Embraer E-195', 'Kiev', 'Los Angeles', datetime.date(2022, 4, 21), datetime.date(2021, 4, 21)),\n",
       " (3, 'Belavia', 'Boeing 737', 'Minsk', 'Sidney', datetime.date(2024, 4, 21), datetime.date(2021, 4, 21)),\n",
       " (4, 'Belavia', 'Embraer E-195', 'London', 'Bangkok', datetime.date(2023, 4, 21), datetime.date(2021, 4, 21)),\n",
       " (5, 'Belavia', 'Embraer E-195', 'Moscow', 'Minsk', datetime.date(2022, 4, 21), datetime.date(2021, 4, 21)),\n",
       " (6, 'Belavia', 'Boeing 737', 'London', 'Amsterdam', datetime.date(2024, 4, 21), datetime.date(2021, 4, 21)),\n",
       " (7, 'Belavia', 'Boeing 737', 'New York', 'Sharm-el-scheih', datetime.date(2023, 4, 21), datetime.date(2021, 4, 21)),\n",
       " (8, 'Belavia', 'Embraer E-195', 'Minsk', 'Moscow', datetime.date(2023, 4, 21), datetime.date(2021, 4, 21)),\n",
       " (9, 'Belavia', 'Embraer E-195', 'Keiptown', 'Larnaka', datetime.date(2023, 4, 21), datetime.date(2021, 4, 21)),\n",
       " (10, 'Belavia', 'Embraer E-195', 'Moscow', 'Gomel', datetime.date(2023, 4, 21), datetime.date(2021, 4, 21)),\n",
       " (11, 'Belavia', 'Boeing 737', 'Antalia', 'Moscow', datetime.date(2023, 4, 21), datetime.date(2021, 4, 21))]"
      ]
     },
     "execution_count": 32,
     "metadata": {},
     "output_type": "execute_result"
    }
   ],
   "source": [
    "import datetime\n",
    "\n",
    "\n",
    "trip_insertion = trip.insert().values([\n",
    "    {'id': 1, 'company': 'Belavia', 'plane': 'Boeing 737', 'town_to': 'Minsk', 'town_from': 'Moscow', 'time_out': datetime.datetime(2022, 4, 21, 17, 54, 30, 209109), 'time_in': datetime.datetime(2021, 4, 21, 19, 54, 30, 209109)},\n",
    "    {'id': 2, 'company': 'Belavia', 'plane': 'Embraer E-195', 'town_to': 'Los Angeles', 'town_from': 'Kiev', 'time_out': datetime.datetime(2022, 4, 21, 17, 54, 30, 209109), 'time_in': datetime.datetime(2021, 4, 21, 19, 54, 30, 209109)},\n",
    "    {'id': 3, 'company': 'Belavia', 'plane': 'Boeing 737', 'town_to': 'Sidney', 'town_from': 'Minsk', 'time_out': datetime.datetime(2024, 4, 21, 17, 54, 30, 209109), 'time_in': datetime.datetime(2021, 4, 21, 19, 54, 30, 209109)},\n",
    "    {'id': 4, 'company': 'Belavia', 'plane': 'Embraer E-195', 'town_to': 'Bangkok', 'town_from': 'London', 'time_out': datetime.datetime(2023, 4, 21, 17, 54, 30, 209109), 'time_in': datetime.datetime(2021, 4, 21, 19, 54, 30, 209109)},\n",
    "    {'id': 5, 'company': 'Belavia', 'plane': 'Embraer E-195', 'town_to': 'Minsk', 'town_from': 'Moscow', 'time_out': datetime.datetime(2022, 4, 21, 17, 54, 30, 209109), 'time_in': datetime.datetime(2021, 4, 21, 19, 54, 30, 209109)},\n",
    "    {'id': 6, 'company': 'Belavia', 'plane': 'Boeing 737', 'town_to': 'Amsterdam', 'town_from': 'London', 'time_out': datetime.datetime(2024, 4, 21, 17, 54, 30, 209109), 'time_in': datetime.datetime(2021, 4, 21, 19, 54, 30, 209109)},\n",
    "    {'id': 7, 'company': 'Belavia', 'plane': 'Boeing 737', 'town_to': 'Sharm-el-scheih', 'town_from': 'New York', 'time_out': datetime.datetime(2023, 4, 21, 17, 54, 30, 209109), 'time_in': datetime.datetime(2021, 4, 21, 19, 54, 30, 209109)},\n",
    "    {'id': 8, 'company': 'Belavia', 'plane': 'Embraer E-195', 'town_to': 'Moscow', 'town_from': 'Minsk', 'time_out': datetime.datetime(2023, 4, 21, 17, 54, 30, 209109), 'time_in': datetime.datetime(2021, 4, 21, 19, 54, 30, 209109)},\n",
    "    {'id': 9, 'company': 'Belavia', 'plane': 'Embraer E-195', 'town_to': 'Larnaka', 'town_from': 'Keiptown', 'time_out': datetime.datetime(2023, 4, 21, 17, 54, 30, 209109), 'time_in': datetime.datetime(2021, 4, 21, 19, 54, 30, 209109)},\n",
    "    {'id': 10, 'company': 'Belavia', 'plane': 'Embraer E-195', 'town_to': 'Gomel', 'town_from': 'Moscow', 'time_out': datetime.datetime(2023, 4, 21, 17, 54, 30, 209109), 'time_in': datetime.datetime(2021, 4, 21, 19, 54, 30, 209109)},\n",
    "    {'id': 11, 'company': 'Belavia', 'plane': 'Boeing 737', 'town_to': 'Moscow', 'town_from': 'Antalia', 'time_out': datetime.datetime(2023, 4, 21, 17, 54, 30, 209109), 'time_in': datetime.datetime(2021, 4, 21, 19, 54, 30, 209109)},\n",
    "  ])\n",
    "conn.execute(trip_insertion)\n",
    "select_all_trips = db.select(trip)\n",
    "trips_result = conn.execute(select_all_trips)\n",
    "trips_result.fetchall()"
   ]
  },
  {
   "cell_type": "code",
   "execution_count": 33,
   "metadata": {},
   "outputs": [
    {
     "data": {
      "text/plain": [
       "[(1, 'Belavia')]"
      ]
     },
     "execution_count": 33,
     "metadata": {},
     "output_type": "execute_result"
    }
   ],
   "source": [
    "companies_insertion = company.insert().values([\n",
    "    {'id': 1, 'name': 'Belavia'}\n",
    "  ])\n",
    "conn.execute(companies_insertion)\n",
    "select_all_companies = db.select(company)\n",
    "companies_result = conn.execute(select_all_companies)\n",
    "companies_result.fetchall()"
   ]
  },
  {
   "cell_type": "code",
   "execution_count": 55,
   "metadata": {},
   "outputs": [
    {
     "name": "stdout",
     "output_type": "stream",
     "text": [
      "SELECT trip.id, trip.company, trip.plane, trip.town_from, trip.town_to, trip.time_out, trip.time_in \n",
      "FROM trip GROUP BY trip.town_to \n",
      "HAVING trip.town_to = :town_to_1\n"
     ]
    },
    {
     "data": {
      "text/plain": [
       "[(1, 'Belavia', 'Boeing 737', 'Moscow', 'Minsk', datetime.date(2022, 4, 21), datetime.date(2021, 4, 21))]"
      ]
     },
     "execution_count": 55,
     "metadata": {},
     "output_type": "execute_result"
    }
   ],
   "source": [
    "minsk_trips = db.select(trip).group_by(trip.columns.town_to).having(trip.columns.town_to == 'Minsk')\n",
    "print(minsk_trips)\n",
    "select_result = conn.execute(minsk_trips)\n",
    "select_result.fetchall()"
   ]
  },
  {
   "cell_type": "code",
   "execution_count": 74,
   "metadata": {},
   "outputs": [
    {
     "data": {
      "text/plain": [
       "[(1, 'Belavia', 'Boeing 737', 'Moscow', 'Minsk', datetime.date(2022, 4, 21), datetime.date(2021, 4, 21), 1, 1, 1, 'Moscow'),\n",
       " (2, 'Belavia', 'Embraer E-195', 'Kiev', 'Los Angeles', datetime.date(2022, 4, 21), datetime.date(2021, 4, 21), 2, 2, 3, 'Kiev'),\n",
       " (3, 'Belavia', 'Boeing 737', 'Minsk', 'Sidney', datetime.date(2024, 4, 21), datetime.date(2021, 4, 21), 3, 3, 6, 'Lisboa'),\n",
       " (4, 'Belavia', 'Embraer E-195', 'London', 'Bangkok', datetime.date(2023, 4, 21), datetime.date(2021, 4, 21), 4, 4, 4, 'Minsk'),\n",
       " (5, 'Belavia', 'Embraer E-195', 'Moscow', 'Minsk', datetime.date(2022, 4, 21), datetime.date(2021, 4, 21), 5, 5, 1, 'Berlin'),\n",
       " (6, 'Belavia', 'Boeing 737', 'London', 'Amsterdam', datetime.date(2024, 4, 21), datetime.date(2021, 4, 21), 6, 6, 8, 'Paris'),\n",
       " (7, 'Belavia', 'Boeing 737', 'New York', 'Sharm-el-scheih', datetime.date(2023, 4, 21), datetime.date(2021, 4, 21), 7, 7, 5, 'Minsk'),\n",
       " (8, 'Belavia', 'Embraer E-195', 'Minsk', 'Moscow', datetime.date(2023, 4, 21), datetime.date(2021, 4, 21), 8, 8, 1, 'Vladivostok'),\n",
       " (9, 'Belavia', 'Embraer E-195', 'Keiptown', 'Larnaka', datetime.date(2023, 4, 21), datetime.date(2021, 4, 21), 9, 9, 3, 'Berlin'),\n",
       " (10, 'Belavia', 'Embraer E-195', 'Moscow', 'Gomel', datetime.date(2023, 4, 21), datetime.date(2021, 4, 21), 10, 10, 2, 'Moscow'),\n",
       " (11, 'Belavia', 'Boeing 737', 'Antalia', 'Moscow', datetime.date(2023, 4, 21), datetime.date(2021, 4, 21), 11, 11, 4, 'Minsk')]"
      ]
     },
     "execution_count": 74,
     "metadata": {},
     "output_type": "execute_result"
    }
   ],
   "source": [
    "table_join = db.select(trip.join(pass_in_trip, trip.columns.id.like(pass_in_trip.columns.trip)))\n",
    "select_result = conn.execute(table_join)\n",
    "select_result.fetchall()"
   ]
  },
  {
   "cell_type": "code",
   "execution_count": 82,
   "metadata": {},
   "outputs": [
    {
     "ename": "CompileError",
     "evalue": "All selectables passed to CompoundSelect must have identical numbers of columns; select #1 has 7 columns, select #2 has 4",
     "output_type": "error",
     "traceback": [
      "\u001b[1;31m---------------------------------------------------------------------------\u001b[0m",
      "\u001b[1;31mCompileError\u001b[0m                              Traceback (most recent call last)",
      "Cell \u001b[1;32mIn[82], line 5\u001b[0m\n\u001b[0;32m      1\u001b[0m \u001b[38;5;28;01mfrom\u001b[39;00m \u001b[38;5;21;01msqlalchemy\u001b[39;00m \u001b[38;5;28;01mimport\u001b[39;00m union\n\u001b[0;32m      3\u001b[0m table_union \u001b[38;5;241m=\u001b[39m union(db\u001b[38;5;241m.\u001b[39mselect(trip), db\u001b[38;5;241m.\u001b[39mselect(pass_in_trip))\n\u001b[1;32m----> 5\u001b[0m select_result \u001b[38;5;241m=\u001b[39m \u001b[43mconn\u001b[49m\u001b[38;5;241;43m.\u001b[39;49m\u001b[43mexecute\u001b[49m\u001b[43m(\u001b[49m\u001b[43mtable_union\u001b[49m\u001b[43m)\u001b[49m\n\u001b[0;32m      6\u001b[0m select_result\u001b[38;5;241m.\u001b[39mfetchall()\n",
      "File \u001b[1;32mc:\\Users\\Acer\\AppData\\Local\\Programs\\Python\\Python312\\Lib\\site-packages\\sqlalchemy\\engine\\base.py:1421\u001b[0m, in \u001b[0;36mConnection.execute\u001b[1;34m(self, statement, parameters, execution_options)\u001b[0m\n\u001b[0;32m   1419\u001b[0m     \u001b[38;5;28;01mraise\u001b[39;00m exc\u001b[38;5;241m.\u001b[39mObjectNotExecutableError(statement) \u001b[38;5;28;01mfrom\u001b[39;00m \u001b[38;5;21;01merr\u001b[39;00m\n\u001b[0;32m   1420\u001b[0m \u001b[38;5;28;01melse\u001b[39;00m:\n\u001b[1;32m-> 1421\u001b[0m     \u001b[38;5;28;01mreturn\u001b[39;00m \u001b[43mmeth\u001b[49m\u001b[43m(\u001b[49m\n\u001b[0;32m   1422\u001b[0m \u001b[43m        \u001b[49m\u001b[38;5;28;43mself\u001b[39;49m\u001b[43m,\u001b[49m\n\u001b[0;32m   1423\u001b[0m \u001b[43m        \u001b[49m\u001b[43mdistilled_parameters\u001b[49m\u001b[43m,\u001b[49m\n\u001b[0;32m   1424\u001b[0m \u001b[43m        \u001b[49m\u001b[43mexecution_options\u001b[49m\u001b[43m \u001b[49m\u001b[38;5;129;43;01mor\u001b[39;49;00m\u001b[43m \u001b[49m\u001b[43mNO_OPTIONS\u001b[49m\u001b[43m,\u001b[49m\n\u001b[0;32m   1425\u001b[0m \u001b[43m    \u001b[49m\u001b[43m)\u001b[49m\n",
      "File \u001b[1;32mc:\\Users\\Acer\\AppData\\Local\\Programs\\Python\\Python312\\Lib\\site-packages\\sqlalchemy\\sql\\elements.py:514\u001b[0m, in \u001b[0;36mClauseElement._execute_on_connection\u001b[1;34m(self, connection, distilled_params, execution_options)\u001b[0m\n\u001b[0;32m    512\u001b[0m     \u001b[38;5;28;01mif\u001b[39;00m TYPE_CHECKING:\n\u001b[0;32m    513\u001b[0m         \u001b[38;5;28;01massert\u001b[39;00m \u001b[38;5;28misinstance\u001b[39m(\u001b[38;5;28mself\u001b[39m, Executable)\n\u001b[1;32m--> 514\u001b[0m     \u001b[38;5;28;01mreturn\u001b[39;00m \u001b[43mconnection\u001b[49m\u001b[38;5;241;43m.\u001b[39;49m\u001b[43m_execute_clauseelement\u001b[49m\u001b[43m(\u001b[49m\n\u001b[0;32m    515\u001b[0m \u001b[43m        \u001b[49m\u001b[38;5;28;43mself\u001b[39;49m\u001b[43m,\u001b[49m\u001b[43m \u001b[49m\u001b[43mdistilled_params\u001b[49m\u001b[43m,\u001b[49m\u001b[43m \u001b[49m\u001b[43mexecution_options\u001b[49m\n\u001b[0;32m    516\u001b[0m \u001b[43m    \u001b[49m\u001b[43m)\u001b[49m\n\u001b[0;32m    517\u001b[0m \u001b[38;5;28;01melse\u001b[39;00m:\n\u001b[0;32m    518\u001b[0m     \u001b[38;5;28;01mraise\u001b[39;00m exc\u001b[38;5;241m.\u001b[39mObjectNotExecutableError(\u001b[38;5;28mself\u001b[39m)\n",
      "File \u001b[1;32mc:\\Users\\Acer\\AppData\\Local\\Programs\\Python\\Python312\\Lib\\site-packages\\sqlalchemy\\engine\\base.py:1635\u001b[0m, in \u001b[0;36mConnection._execute_clauseelement\u001b[1;34m(self, elem, distilled_parameters, execution_options)\u001b[0m\n\u001b[0;32m   1627\u001b[0m schema_translate_map \u001b[38;5;241m=\u001b[39m execution_options\u001b[38;5;241m.\u001b[39mget(\n\u001b[0;32m   1628\u001b[0m     \u001b[38;5;124m\"\u001b[39m\u001b[38;5;124mschema_translate_map\u001b[39m\u001b[38;5;124m\"\u001b[39m, \u001b[38;5;28;01mNone\u001b[39;00m\n\u001b[0;32m   1629\u001b[0m )\n\u001b[0;32m   1631\u001b[0m compiled_cache: Optional[CompiledCacheType] \u001b[38;5;241m=\u001b[39m execution_options\u001b[38;5;241m.\u001b[39mget(\n\u001b[0;32m   1632\u001b[0m     \u001b[38;5;124m\"\u001b[39m\u001b[38;5;124mcompiled_cache\u001b[39m\u001b[38;5;124m\"\u001b[39m, \u001b[38;5;28mself\u001b[39m\u001b[38;5;241m.\u001b[39mengine\u001b[38;5;241m.\u001b[39m_compiled_cache\n\u001b[0;32m   1633\u001b[0m )\n\u001b[1;32m-> 1635\u001b[0m compiled_sql, extracted_params, cache_hit \u001b[38;5;241m=\u001b[39m \u001b[43melem\u001b[49m\u001b[38;5;241;43m.\u001b[39;49m\u001b[43m_compile_w_cache\u001b[49m\u001b[43m(\u001b[49m\n\u001b[0;32m   1636\u001b[0m \u001b[43m    \u001b[49m\u001b[43mdialect\u001b[49m\u001b[38;5;241;43m=\u001b[39;49m\u001b[43mdialect\u001b[49m\u001b[43m,\u001b[49m\n\u001b[0;32m   1637\u001b[0m \u001b[43m    \u001b[49m\u001b[43mcompiled_cache\u001b[49m\u001b[38;5;241;43m=\u001b[39;49m\u001b[43mcompiled_cache\u001b[49m\u001b[43m,\u001b[49m\n\u001b[0;32m   1638\u001b[0m \u001b[43m    \u001b[49m\u001b[43mcolumn_keys\u001b[49m\u001b[38;5;241;43m=\u001b[39;49m\u001b[43mkeys\u001b[49m\u001b[43m,\u001b[49m\n\u001b[0;32m   1639\u001b[0m \u001b[43m    \u001b[49m\u001b[43mfor_executemany\u001b[49m\u001b[38;5;241;43m=\u001b[39;49m\u001b[43mfor_executemany\u001b[49m\u001b[43m,\u001b[49m\n\u001b[0;32m   1640\u001b[0m \u001b[43m    \u001b[49m\u001b[43mschema_translate_map\u001b[49m\u001b[38;5;241;43m=\u001b[39;49m\u001b[43mschema_translate_map\u001b[49m\u001b[43m,\u001b[49m\n\u001b[0;32m   1641\u001b[0m \u001b[43m    \u001b[49m\u001b[43mlinting\u001b[49m\u001b[38;5;241;43m=\u001b[39;49m\u001b[38;5;28;43mself\u001b[39;49m\u001b[38;5;241;43m.\u001b[39;49m\u001b[43mdialect\u001b[49m\u001b[38;5;241;43m.\u001b[39;49m\u001b[43mcompiler_linting\u001b[49m\u001b[43m \u001b[49m\u001b[38;5;241;43m|\u001b[39;49m\u001b[43m \u001b[49m\u001b[43mcompiler\u001b[49m\u001b[38;5;241;43m.\u001b[39;49m\u001b[43mWARN_LINTING\u001b[49m\u001b[43m,\u001b[49m\n\u001b[0;32m   1642\u001b[0m \u001b[43m\u001b[49m\u001b[43m)\u001b[49m\n\u001b[0;32m   1643\u001b[0m ret \u001b[38;5;241m=\u001b[39m \u001b[38;5;28mself\u001b[39m\u001b[38;5;241m.\u001b[39m_execute_context(\n\u001b[0;32m   1644\u001b[0m     dialect,\n\u001b[0;32m   1645\u001b[0m     dialect\u001b[38;5;241m.\u001b[39mexecution_ctx_cls\u001b[38;5;241m.\u001b[39m_init_compiled,\n\u001b[1;32m   (...)\u001b[0m\n\u001b[0;32m   1653\u001b[0m     cache_hit\u001b[38;5;241m=\u001b[39mcache_hit,\n\u001b[0;32m   1654\u001b[0m )\n\u001b[0;32m   1655\u001b[0m \u001b[38;5;28;01mif\u001b[39;00m has_events:\n",
      "File \u001b[1;32mc:\\Users\\Acer\\AppData\\Local\\Programs\\Python\\Python312\\Lib\\site-packages\\sqlalchemy\\sql\\elements.py:702\u001b[0m, in \u001b[0;36mClauseElement._compile_w_cache\u001b[1;34m(self, dialect, compiled_cache, column_keys, for_executemany, schema_translate_map, **kw)\u001b[0m\n\u001b[0;32m    700\u001b[0m \u001b[38;5;28;01mif\u001b[39;00m compiled_sql \u001b[38;5;129;01mis\u001b[39;00m \u001b[38;5;28;01mNone\u001b[39;00m:\n\u001b[0;32m    701\u001b[0m     cache_hit \u001b[38;5;241m=\u001b[39m dialect\u001b[38;5;241m.\u001b[39mCACHE_MISS\n\u001b[1;32m--> 702\u001b[0m     compiled_sql \u001b[38;5;241m=\u001b[39m \u001b[38;5;28;43mself\u001b[39;49m\u001b[38;5;241;43m.\u001b[39;49m\u001b[43m_compiler\u001b[49m\u001b[43m(\u001b[49m\n\u001b[0;32m    703\u001b[0m \u001b[43m        \u001b[49m\u001b[43mdialect\u001b[49m\u001b[43m,\u001b[49m\n\u001b[0;32m    704\u001b[0m \u001b[43m        \u001b[49m\u001b[43mcache_key\u001b[49m\u001b[38;5;241;43m=\u001b[39;49m\u001b[43melem_cache_key\u001b[49m\u001b[43m,\u001b[49m\n\u001b[0;32m    705\u001b[0m \u001b[43m        \u001b[49m\u001b[43mcolumn_keys\u001b[49m\u001b[38;5;241;43m=\u001b[39;49m\u001b[43mcolumn_keys\u001b[49m\u001b[43m,\u001b[49m\n\u001b[0;32m    706\u001b[0m \u001b[43m        \u001b[49m\u001b[43mfor_executemany\u001b[49m\u001b[38;5;241;43m=\u001b[39;49m\u001b[43mfor_executemany\u001b[49m\u001b[43m,\u001b[49m\n\u001b[0;32m    707\u001b[0m \u001b[43m        \u001b[49m\u001b[43mschema_translate_map\u001b[49m\u001b[38;5;241;43m=\u001b[39;49m\u001b[43mschema_translate_map\u001b[49m\u001b[43m,\u001b[49m\n\u001b[0;32m    708\u001b[0m \u001b[43m        \u001b[49m\u001b[38;5;241;43m*\u001b[39;49m\u001b[38;5;241;43m*\u001b[39;49m\u001b[43mkw\u001b[49m\u001b[43m,\u001b[49m\n\u001b[0;32m    709\u001b[0m \u001b[43m    \u001b[49m\u001b[43m)\u001b[49m\n\u001b[0;32m    710\u001b[0m     compiled_cache[key] \u001b[38;5;241m=\u001b[39m compiled_sql\n\u001b[0;32m    711\u001b[0m \u001b[38;5;28;01melse\u001b[39;00m:\n",
      "File \u001b[1;32mc:\\Users\\Acer\\AppData\\Local\\Programs\\Python\\Python312\\Lib\\site-packages\\sqlalchemy\\sql\\elements.py:315\u001b[0m, in \u001b[0;36mCompilerElement._compiler\u001b[1;34m(self, dialect, **kw)\u001b[0m\n\u001b[0;32m    313\u001b[0m \u001b[38;5;28;01mif\u001b[39;00m TYPE_CHECKING:\n\u001b[0;32m    314\u001b[0m     \u001b[38;5;28;01massert\u001b[39;00m \u001b[38;5;28misinstance\u001b[39m(\u001b[38;5;28mself\u001b[39m, ClauseElement)\n\u001b[1;32m--> 315\u001b[0m \u001b[38;5;28;01mreturn\u001b[39;00m \u001b[43mdialect\u001b[49m\u001b[38;5;241;43m.\u001b[39;49m\u001b[43mstatement_compiler\u001b[49m\u001b[43m(\u001b[49m\u001b[43mdialect\u001b[49m\u001b[43m,\u001b[49m\u001b[43m \u001b[49m\u001b[38;5;28;43mself\u001b[39;49m\u001b[43m,\u001b[49m\u001b[43m \u001b[49m\u001b[38;5;241;43m*\u001b[39;49m\u001b[38;5;241;43m*\u001b[39;49m\u001b[43mkw\u001b[49m\u001b[43m)\u001b[49m\n",
      "File \u001b[1;32mc:\\Users\\Acer\\AppData\\Local\\Programs\\Python\\Python312\\Lib\\site-packages\\sqlalchemy\\sql\\compiler.py:1424\u001b[0m, in \u001b[0;36mSQLCompiler.__init__\u001b[1;34m(self, dialect, statement, cache_key, column_keys, for_executemany, linting, _supporting_against, **kwargs)\u001b[0m\n\u001b[0;32m   1421\u001b[0m \u001b[38;5;28mself\u001b[39m\u001b[38;5;241m.\u001b[39mtruncated_names: Dict[Tuple[\u001b[38;5;28mstr\u001b[39m, \u001b[38;5;28mstr\u001b[39m], \u001b[38;5;28mstr\u001b[39m] \u001b[38;5;241m=\u001b[39m {}\n\u001b[0;32m   1422\u001b[0m \u001b[38;5;28mself\u001b[39m\u001b[38;5;241m.\u001b[39m_truncated_counters: Dict[\u001b[38;5;28mstr\u001b[39m, \u001b[38;5;28mint\u001b[39m] \u001b[38;5;241m=\u001b[39m {}\n\u001b[1;32m-> 1424\u001b[0m \u001b[43mCompiled\u001b[49m\u001b[38;5;241;43m.\u001b[39;49m\u001b[38;5;21;43m__init__\u001b[39;49m\u001b[43m(\u001b[49m\u001b[38;5;28;43mself\u001b[39;49m\u001b[43m,\u001b[49m\u001b[43m \u001b[49m\u001b[43mdialect\u001b[49m\u001b[43m,\u001b[49m\u001b[43m \u001b[49m\u001b[43mstatement\u001b[49m\u001b[43m,\u001b[49m\u001b[43m \u001b[49m\u001b[38;5;241;43m*\u001b[39;49m\u001b[38;5;241;43m*\u001b[39;49m\u001b[43mkwargs\u001b[49m\u001b[43m)\u001b[49m\n\u001b[0;32m   1426\u001b[0m \u001b[38;5;28;01mif\u001b[39;00m \u001b[38;5;28mself\u001b[39m\u001b[38;5;241m.\u001b[39misinsert \u001b[38;5;129;01mor\u001b[39;00m \u001b[38;5;28mself\u001b[39m\u001b[38;5;241m.\u001b[39misupdate \u001b[38;5;129;01mor\u001b[39;00m \u001b[38;5;28mself\u001b[39m\u001b[38;5;241m.\u001b[39misdelete:\n\u001b[0;32m   1427\u001b[0m     \u001b[38;5;28;01mif\u001b[39;00m TYPE_CHECKING:\n",
      "File \u001b[1;32mc:\\Users\\Acer\\AppData\\Local\\Programs\\Python\\Python312\\Lib\\site-packages\\sqlalchemy\\sql\\compiler.py:865\u001b[0m, in \u001b[0;36mCompiled.__init__\u001b[1;34m(self, dialect, statement, schema_translate_map, render_schema_translate, compile_kwargs)\u001b[0m\n\u001b[0;32m    863\u001b[0m         \u001b[38;5;28;01massert\u001b[39;00m \u001b[38;5;28misinstance\u001b[39m(statement, Executable)\n\u001b[0;32m    864\u001b[0m     \u001b[38;5;28mself\u001b[39m\u001b[38;5;241m.\u001b[39mexecution_options \u001b[38;5;241m=\u001b[39m statement\u001b[38;5;241m.\u001b[39m_execution_options\n\u001b[1;32m--> 865\u001b[0m \u001b[38;5;28mself\u001b[39m\u001b[38;5;241m.\u001b[39mstring \u001b[38;5;241m=\u001b[39m \u001b[38;5;28;43mself\u001b[39;49m\u001b[38;5;241;43m.\u001b[39;49m\u001b[43mprocess\u001b[49m\u001b[43m(\u001b[49m\u001b[38;5;28;43mself\u001b[39;49m\u001b[38;5;241;43m.\u001b[39;49m\u001b[43mstatement\u001b[49m\u001b[43m,\u001b[49m\u001b[43m \u001b[49m\u001b[38;5;241;43m*\u001b[39;49m\u001b[38;5;241;43m*\u001b[39;49m\u001b[43mcompile_kwargs\u001b[49m\u001b[43m)\u001b[49m\n\u001b[0;32m    867\u001b[0m \u001b[38;5;28;01mif\u001b[39;00m render_schema_translate:\n\u001b[0;32m    868\u001b[0m     \u001b[38;5;28mself\u001b[39m\u001b[38;5;241m.\u001b[39mstring \u001b[38;5;241m=\u001b[39m \u001b[38;5;28mself\u001b[39m\u001b[38;5;241m.\u001b[39mpreparer\u001b[38;5;241m.\u001b[39m_render_schema_translates(\n\u001b[0;32m    869\u001b[0m         \u001b[38;5;28mself\u001b[39m\u001b[38;5;241m.\u001b[39mstring, schema_translate_map\n\u001b[0;32m    870\u001b[0m     )\n",
      "File \u001b[1;32mc:\\Users\\Acer\\AppData\\Local\\Programs\\Python\\Python312\\Lib\\site-packages\\sqlalchemy\\sql\\compiler.py:910\u001b[0m, in \u001b[0;36mCompiled.process\u001b[1;34m(self, obj, **kwargs)\u001b[0m\n\u001b[0;32m    909\u001b[0m \u001b[38;5;28;01mdef\u001b[39;00m \u001b[38;5;21mprocess\u001b[39m(\u001b[38;5;28mself\u001b[39m, obj: Visitable, \u001b[38;5;241m*\u001b[39m\u001b[38;5;241m*\u001b[39mkwargs: Any) \u001b[38;5;241m-\u001b[39m\u001b[38;5;241m>\u001b[39m \u001b[38;5;28mstr\u001b[39m:\n\u001b[1;32m--> 910\u001b[0m     \u001b[38;5;28;01mreturn\u001b[39;00m \u001b[43mobj\u001b[49m\u001b[38;5;241;43m.\u001b[39;49m\u001b[43m_compiler_dispatch\u001b[49m\u001b[43m(\u001b[49m\u001b[38;5;28;43mself\u001b[39;49m\u001b[43m,\u001b[49m\u001b[43m \u001b[49m\u001b[38;5;241;43m*\u001b[39;49m\u001b[38;5;241;43m*\u001b[39;49m\u001b[43mkwargs\u001b[49m\u001b[43m)\u001b[49m\n",
      "File \u001b[1;32mc:\\Users\\Acer\\AppData\\Local\\Programs\\Python\\Python312\\Lib\\site-packages\\sqlalchemy\\sql\\visitors.py:141\u001b[0m, in \u001b[0;36mVisitable._generate_compiler_dispatch.<locals>._compiler_dispatch\u001b[1;34m(self, visitor, **kw)\u001b[0m\n\u001b[0;32m    139\u001b[0m     \u001b[38;5;28;01mreturn\u001b[39;00m visitor\u001b[38;5;241m.\u001b[39mvisit_unsupported_compilation(\u001b[38;5;28mself\u001b[39m, err, \u001b[38;5;241m*\u001b[39m\u001b[38;5;241m*\u001b[39mkw)  \u001b[38;5;66;03m# type: ignore  # noqa: E501\u001b[39;00m\n\u001b[0;32m    140\u001b[0m \u001b[38;5;28;01melse\u001b[39;00m:\n\u001b[1;32m--> 141\u001b[0m     \u001b[38;5;28;01mreturn\u001b[39;00m \u001b[43mmeth\u001b[49m\u001b[43m(\u001b[49m\u001b[38;5;28;43mself\u001b[39;49m\u001b[43m,\u001b[49m\u001b[43m \u001b[49m\u001b[38;5;241;43m*\u001b[39;49m\u001b[38;5;241;43m*\u001b[39;49m\u001b[43mkw\u001b[49m\u001b[43m)\u001b[49m\n",
      "File \u001b[1;32mc:\\Users\\Acer\\AppData\\Local\\Programs\\Python\\Python312\\Lib\\site-packages\\sqlalchemy\\sql\\compiler.py:3036\u001b[0m, in \u001b[0;36mSQLCompiler.visit_compound_select\u001b[1;34m(self, cs, asfrom, compound_index, **kwargs)\u001b[0m\n\u001b[0;32m   3032\u001b[0m     \u001b[38;5;28mself\u001b[39m\u001b[38;5;241m.\u001b[39m_dispatch_independent_ctes(compound_stmt, kwargs)\n\u001b[0;32m   3034\u001b[0m keyword \u001b[38;5;241m=\u001b[39m \u001b[38;5;28mself\u001b[39m\u001b[38;5;241m.\u001b[39mcompound_keywords[cs\u001b[38;5;241m.\u001b[39mkeyword]\n\u001b[1;32m-> 3036\u001b[0m text \u001b[38;5;241m=\u001b[39m \u001b[43m(\u001b[49m\u001b[38;5;124;43m\"\u001b[39;49m\u001b[38;5;124;43m \u001b[39;49m\u001b[38;5;124;43m\"\u001b[39;49m\u001b[43m \u001b[49m\u001b[38;5;241;43m+\u001b[39;49m\u001b[43m \u001b[49m\u001b[43mkeyword\u001b[49m\u001b[43m \u001b[49m\u001b[38;5;241;43m+\u001b[39;49m\u001b[43m \u001b[49m\u001b[38;5;124;43m\"\u001b[39;49m\u001b[38;5;124;43m \u001b[39;49m\u001b[38;5;124;43m\"\u001b[39;49m\u001b[43m)\u001b[49m\u001b[38;5;241;43m.\u001b[39;49m\u001b[43mjoin\u001b[49m\u001b[43m(\u001b[49m\n\u001b[0;32m   3037\u001b[0m \u001b[43m    \u001b[49m\u001b[43m(\u001b[49m\n\u001b[0;32m   3038\u001b[0m \u001b[43m        \u001b[49m\u001b[43mc\u001b[49m\u001b[38;5;241;43m.\u001b[39;49m\u001b[43m_compiler_dispatch\u001b[49m\u001b[43m(\u001b[49m\n\u001b[0;32m   3039\u001b[0m \u001b[43m            \u001b[49m\u001b[38;5;28;43mself\u001b[39;49m\u001b[43m,\u001b[49m\u001b[43m \u001b[49m\u001b[43masfrom\u001b[49m\u001b[38;5;241;43m=\u001b[39;49m\u001b[43masfrom\u001b[49m\u001b[43m,\u001b[49m\u001b[43m \u001b[49m\u001b[43mcompound_index\u001b[49m\u001b[38;5;241;43m=\u001b[39;49m\u001b[43mi\u001b[49m\u001b[43m,\u001b[49m\u001b[43m \u001b[49m\u001b[38;5;241;43m*\u001b[39;49m\u001b[38;5;241;43m*\u001b[39;49m\u001b[43mkwargs\u001b[49m\n\u001b[0;32m   3040\u001b[0m \u001b[43m        \u001b[49m\u001b[43m)\u001b[49m\n\u001b[0;32m   3041\u001b[0m \u001b[43m        \u001b[49m\u001b[38;5;28;43;01mfor\u001b[39;49;00m\u001b[43m \u001b[49m\u001b[43mi\u001b[49m\u001b[43m,\u001b[49m\u001b[43m \u001b[49m\u001b[43mc\u001b[49m\u001b[43m \u001b[49m\u001b[38;5;129;43;01min\u001b[39;49;00m\u001b[43m \u001b[49m\u001b[38;5;28;43menumerate\u001b[39;49m\u001b[43m(\u001b[49m\u001b[43mcs\u001b[49m\u001b[38;5;241;43m.\u001b[39;49m\u001b[43mselects\u001b[49m\u001b[43m)\u001b[49m\n\u001b[0;32m   3042\u001b[0m \u001b[43m    \u001b[49m\u001b[43m)\u001b[49m\n\u001b[0;32m   3043\u001b[0m \u001b[43m\u001b[49m\u001b[43m)\u001b[49m\n\u001b[0;32m   3045\u001b[0m kwargs[\u001b[38;5;124m\"\u001b[39m\u001b[38;5;124minclude_table\u001b[39m\u001b[38;5;124m\"\u001b[39m] \u001b[38;5;241m=\u001b[39m \u001b[38;5;28;01mFalse\u001b[39;00m\n\u001b[0;32m   3046\u001b[0m text \u001b[38;5;241m+\u001b[39m\u001b[38;5;241m=\u001b[39m \u001b[38;5;28mself\u001b[39m\u001b[38;5;241m.\u001b[39mgroup_by_clause(cs, \u001b[38;5;241m*\u001b[39m\u001b[38;5;241m*\u001b[39m\u001b[38;5;28mdict\u001b[39m(asfrom\u001b[38;5;241m=\u001b[39masfrom, \u001b[38;5;241m*\u001b[39m\u001b[38;5;241m*\u001b[39mkwargs))\n",
      "File \u001b[1;32mc:\\Users\\Acer\\AppData\\Local\\Programs\\Python\\Python312\\Lib\\site-packages\\sqlalchemy\\sql\\compiler.py:3038\u001b[0m, in \u001b[0;36m<genexpr>\u001b[1;34m(.0)\u001b[0m\n\u001b[0;32m   3032\u001b[0m     \u001b[38;5;28mself\u001b[39m\u001b[38;5;241m.\u001b[39m_dispatch_independent_ctes(compound_stmt, kwargs)\n\u001b[0;32m   3034\u001b[0m keyword \u001b[38;5;241m=\u001b[39m \u001b[38;5;28mself\u001b[39m\u001b[38;5;241m.\u001b[39mcompound_keywords[cs\u001b[38;5;241m.\u001b[39mkeyword]\n\u001b[0;32m   3036\u001b[0m text \u001b[38;5;241m=\u001b[39m (\u001b[38;5;124m\"\u001b[39m\u001b[38;5;124m \u001b[39m\u001b[38;5;124m\"\u001b[39m \u001b[38;5;241m+\u001b[39m keyword \u001b[38;5;241m+\u001b[39m \u001b[38;5;124m\"\u001b[39m\u001b[38;5;124m \u001b[39m\u001b[38;5;124m\"\u001b[39m)\u001b[38;5;241m.\u001b[39mjoin(\n\u001b[0;32m   3037\u001b[0m     (\n\u001b[1;32m-> 3038\u001b[0m         \u001b[43mc\u001b[49m\u001b[38;5;241;43m.\u001b[39;49m\u001b[43m_compiler_dispatch\u001b[49m\u001b[43m(\u001b[49m\n\u001b[0;32m   3039\u001b[0m \u001b[43m            \u001b[49m\u001b[38;5;28;43mself\u001b[39;49m\u001b[43m,\u001b[49m\u001b[43m \u001b[49m\u001b[43masfrom\u001b[49m\u001b[38;5;241;43m=\u001b[39;49m\u001b[43masfrom\u001b[49m\u001b[43m,\u001b[49m\u001b[43m \u001b[49m\u001b[43mcompound_index\u001b[49m\u001b[38;5;241;43m=\u001b[39;49m\u001b[43mi\u001b[49m\u001b[43m,\u001b[49m\u001b[43m \u001b[49m\u001b[38;5;241;43m*\u001b[39;49m\u001b[38;5;241;43m*\u001b[39;49m\u001b[43mkwargs\u001b[49m\n\u001b[0;32m   3040\u001b[0m \u001b[43m        \u001b[49m\u001b[43m)\u001b[49m\n\u001b[0;32m   3041\u001b[0m         \u001b[38;5;28;01mfor\u001b[39;00m i, c \u001b[38;5;129;01min\u001b[39;00m \u001b[38;5;28menumerate\u001b[39m(cs\u001b[38;5;241m.\u001b[39mselects)\n\u001b[0;32m   3042\u001b[0m     )\n\u001b[0;32m   3043\u001b[0m )\n\u001b[0;32m   3045\u001b[0m kwargs[\u001b[38;5;124m\"\u001b[39m\u001b[38;5;124minclude_table\u001b[39m\u001b[38;5;124m\"\u001b[39m] \u001b[38;5;241m=\u001b[39m \u001b[38;5;28;01mFalse\u001b[39;00m\n\u001b[0;32m   3046\u001b[0m text \u001b[38;5;241m+\u001b[39m\u001b[38;5;241m=\u001b[39m \u001b[38;5;28mself\u001b[39m\u001b[38;5;241m.\u001b[39mgroup_by_clause(cs, \u001b[38;5;241m*\u001b[39m\u001b[38;5;241m*\u001b[39m\u001b[38;5;28mdict\u001b[39m(asfrom\u001b[38;5;241m=\u001b[39masfrom, \u001b[38;5;241m*\u001b[39m\u001b[38;5;241m*\u001b[39mkwargs))\n",
      "File \u001b[1;32mc:\\Users\\Acer\\AppData\\Local\\Programs\\Python\\Python312\\Lib\\site-packages\\sqlalchemy\\sql\\visitors.py:141\u001b[0m, in \u001b[0;36mVisitable._generate_compiler_dispatch.<locals>._compiler_dispatch\u001b[1;34m(self, visitor, **kw)\u001b[0m\n\u001b[0;32m    139\u001b[0m     \u001b[38;5;28;01mreturn\u001b[39;00m visitor\u001b[38;5;241m.\u001b[39mvisit_unsupported_compilation(\u001b[38;5;28mself\u001b[39m, err, \u001b[38;5;241m*\u001b[39m\u001b[38;5;241m*\u001b[39mkw)  \u001b[38;5;66;03m# type: ignore  # noqa: E501\u001b[39;00m\n\u001b[0;32m    140\u001b[0m \u001b[38;5;28;01melse\u001b[39;00m:\n\u001b[1;32m--> 141\u001b[0m     \u001b[38;5;28;01mreturn\u001b[39;00m \u001b[43mmeth\u001b[49m\u001b[43m(\u001b[49m\u001b[38;5;28;43mself\u001b[39;49m\u001b[43m,\u001b[49m\u001b[43m \u001b[49m\u001b[38;5;241;43m*\u001b[39;49m\u001b[38;5;241;43m*\u001b[39;49m\u001b[43mkw\u001b[49m\u001b[43m)\u001b[49m\n",
      "File \u001b[1;32mc:\\Users\\Acer\\AppData\\Local\\Programs\\Python\\Python312\\Lib\\site-packages\\sqlalchemy\\sql\\compiler.py:4738\u001b[0m, in \u001b[0;36mSQLCompiler.visit_select\u001b[1;34m(self, select_stmt, asfrom, insert_into, fromhints, compound_index, select_wraps_for, lateral, from_linter, **kwargs)\u001b[0m\n\u001b[0;32m   4735\u001b[0m \u001b[38;5;28;01mif\u001b[39;00m \u001b[38;5;129;01mnot\u001b[39;00m populate_result_map \u001b[38;5;129;01mand\u001b[39;00m \u001b[38;5;124m\"\u001b[39m\u001b[38;5;124madd_to_result_map\u001b[39m\u001b[38;5;124m\"\u001b[39m \u001b[38;5;129;01min\u001b[39;00m kwargs:\n\u001b[0;32m   4736\u001b[0m     \u001b[38;5;28;01mdel\u001b[39;00m kwargs[\u001b[38;5;124m\"\u001b[39m\u001b[38;5;124madd_to_result_map\u001b[39m\u001b[38;5;124m\"\u001b[39m]\n\u001b[1;32m-> 4738\u001b[0m froms \u001b[38;5;241m=\u001b[39m \u001b[38;5;28;43mself\u001b[39;49m\u001b[38;5;241;43m.\u001b[39;49m\u001b[43m_setup_select_stack\u001b[49m\u001b[43m(\u001b[49m\n\u001b[0;32m   4739\u001b[0m \u001b[43m    \u001b[49m\u001b[43mselect_stmt\u001b[49m\u001b[43m,\u001b[49m\u001b[43m \u001b[49m\u001b[43mcompile_state\u001b[49m\u001b[43m,\u001b[49m\u001b[43m \u001b[49m\u001b[43mentry\u001b[49m\u001b[43m,\u001b[49m\u001b[43m \u001b[49m\u001b[43masfrom\u001b[49m\u001b[43m,\u001b[49m\u001b[43m \u001b[49m\u001b[43mlateral\u001b[49m\u001b[43m,\u001b[49m\u001b[43m \u001b[49m\u001b[43mcompound_index\u001b[49m\n\u001b[0;32m   4740\u001b[0m \u001b[43m\u001b[49m\u001b[43m)\u001b[49m\n\u001b[0;32m   4742\u001b[0m column_clause_args \u001b[38;5;241m=\u001b[39m kwargs\u001b[38;5;241m.\u001b[39mcopy()\n\u001b[0;32m   4743\u001b[0m column_clause_args\u001b[38;5;241m.\u001b[39mupdate(\n\u001b[0;32m   4744\u001b[0m     {\u001b[38;5;124m\"\u001b[39m\u001b[38;5;124mwithin_label_clause\u001b[39m\u001b[38;5;124m\"\u001b[39m: \u001b[38;5;28;01mFalse\u001b[39;00m, \u001b[38;5;124m\"\u001b[39m\u001b[38;5;124mwithin_columns_clause\u001b[39m\u001b[38;5;124m\"\u001b[39m: \u001b[38;5;28;01mFalse\u001b[39;00m}\n\u001b[0;32m   4745\u001b[0m )\n",
      "File \u001b[1;32mc:\\Users\\Acer\\AppData\\Local\\Programs\\Python\\Python312\\Lib\\site-packages\\sqlalchemy\\sql\\compiler.py:4887\u001b[0m, in \u001b[0;36mSQLCompiler._setup_select_stack\u001b[1;34m(self, select, compile_state, entry, asfrom, lateral, compound_index)\u001b[0m\n\u001b[0;32m   4884\u001b[0m     numcols \u001b[38;5;241m=\u001b[39m \u001b[38;5;28mlen\u001b[39m(select_0\u001b[38;5;241m.\u001b[39m_all_selected_columns)\n\u001b[0;32m   4886\u001b[0m     \u001b[38;5;28;01mif\u001b[39;00m \u001b[38;5;28mlen\u001b[39m(compile_state\u001b[38;5;241m.\u001b[39mcolumns_plus_names) \u001b[38;5;241m!=\u001b[39m numcols:\n\u001b[1;32m-> 4887\u001b[0m         \u001b[38;5;28;01mraise\u001b[39;00m exc\u001b[38;5;241m.\u001b[39mCompileError(\n\u001b[0;32m   4888\u001b[0m             \u001b[38;5;124m\"\u001b[39m\u001b[38;5;124mAll selectables passed to \u001b[39m\u001b[38;5;124m\"\u001b[39m\n\u001b[0;32m   4889\u001b[0m             \u001b[38;5;124m\"\u001b[39m\u001b[38;5;124mCompoundSelect must have identical numbers of \u001b[39m\u001b[38;5;124m\"\u001b[39m\n\u001b[0;32m   4890\u001b[0m             \u001b[38;5;124m\"\u001b[39m\u001b[38;5;124mcolumns; select #\u001b[39m\u001b[38;5;132;01m%d\u001b[39;00m\u001b[38;5;124m has \u001b[39m\u001b[38;5;132;01m%d\u001b[39;00m\u001b[38;5;124m columns, select \u001b[39m\u001b[38;5;124m\"\u001b[39m\n\u001b[0;32m   4891\u001b[0m             \u001b[38;5;124m\"\u001b[39m\u001b[38;5;124m#\u001b[39m\u001b[38;5;132;01m%d\u001b[39;00m\u001b[38;5;124m has \u001b[39m\u001b[38;5;132;01m%d\u001b[39;00m\u001b[38;5;124m\"\u001b[39m\n\u001b[0;32m   4892\u001b[0m             \u001b[38;5;241m%\u001b[39m (\n\u001b[0;32m   4893\u001b[0m                 \u001b[38;5;241m1\u001b[39m,\n\u001b[0;32m   4894\u001b[0m                 numcols,\n\u001b[0;32m   4895\u001b[0m                 compound_index \u001b[38;5;241m+\u001b[39m \u001b[38;5;241m1\u001b[39m,\n\u001b[0;32m   4896\u001b[0m                 \u001b[38;5;28mlen\u001b[39m(select\u001b[38;5;241m.\u001b[39m_all_selected_columns),\n\u001b[0;32m   4897\u001b[0m             )\n\u001b[0;32m   4898\u001b[0m         )\n\u001b[0;32m   4900\u001b[0m \u001b[38;5;28;01mif\u001b[39;00m asfrom \u001b[38;5;129;01mand\u001b[39;00m \u001b[38;5;129;01mnot\u001b[39;00m lateral:\n\u001b[0;32m   4901\u001b[0m     froms \u001b[38;5;241m=\u001b[39m compile_state\u001b[38;5;241m.\u001b[39m_get_display_froms(\n\u001b[0;32m   4902\u001b[0m         explicit_correlate_froms\u001b[38;5;241m=\u001b[39mcorrelate_froms\u001b[38;5;241m.\u001b[39mdifference(\n\u001b[0;32m   4903\u001b[0m             asfrom_froms\n\u001b[0;32m   4904\u001b[0m         ),\n\u001b[0;32m   4905\u001b[0m         implicit_correlate_froms\u001b[38;5;241m=\u001b[39m(),\n\u001b[0;32m   4906\u001b[0m     )\n",
      "\u001b[1;31mCompileError\u001b[0m: All selectables passed to CompoundSelect must have identical numbers of columns; select #1 has 7 columns, select #2 has 4"
     ]
    }
   ],
   "source": [
    "from sqlalchemy import union\n",
    "\n",
    "table_union = union(db.select(trip), db.select(pass_in_trip))\n",
    "select_result = conn.execute(table_union)\n",
    "select_result.fetchall()"
   ]
  }
 ],
 "metadata": {
  "kernelspec": {
   "display_name": "Python 3",
   "language": "python",
   "name": "python3"
  },
  "language_info": {
   "codemirror_mode": {
    "name": "ipython",
    "version": 3
   },
   "file_extension": ".py",
   "mimetype": "text/x-python",
   "name": "python",
   "nbconvert_exporter": "python",
   "pygments_lexer": "ipython3",
   "version": "3.12.1"
  }
 },
 "nbformat": 4,
 "nbformat_minor": 2
}
