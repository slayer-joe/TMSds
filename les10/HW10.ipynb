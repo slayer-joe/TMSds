{
 "cells": [
  {
   "cell_type": "code",
   "execution_count": 6,
   "metadata": {},
   "outputs": [],
   "source": [
    "import sqlalchemy as db"
   ]
  },
  {
   "cell_type": "code",
   "execution_count": 3,
   "metadata": {},
   "outputs": [],
   "source": [
    "engine = db.create_engine('sqlite:///mydb.db')"
   ]
  },
  {
   "cell_type": "code",
   "execution_count": 4,
   "metadata": {},
   "outputs": [],
   "source": [
    "conn = engine.connect()"
   ]
  },
  {
   "cell_type": "code",
   "execution_count": 5,
   "metadata": {},
   "outputs": [],
   "source": [
    "metadata = db.MetaData()"
   ]
  },
  {
   "cell_type": "code",
   "execution_count": 7,
   "metadata": {},
   "outputs": [
    {
     "data": {
      "text/plain": [
       "Table('Passenger', MetaData(), Column('passenger_id', Integer(), table=<Passenger>, primary_key=True, nullable=False), Column('passenger_name', Text(), table=<Passenger>), schema=None)"
      ]
     },
     "execution_count": 7,
     "metadata": {},
     "output_type": "execute_result"
    }
   ],
   "source": [
    "passengers = db.Table(\n",
    "    'Passenger', metadata,\n",
    "    db.Column('passenger_id', db.Integer, primary_key=True),\n",
    "    db.Column('passenger_name', db.Text)\n",
    ")\n",
    "passengers"
   ]
  },
  {
   "cell_type": "code",
   "execution_count": 8,
   "metadata": {},
   "outputs": [
    {
     "data": {
      "text/plain": [
       "Table('pass_in_trip', MetaData(), Column('id', Integer(), table=<pass_in_trip>, primary_key=True, nullable=False), Column('trip', Integer(), table=<pass_in_trip>), Column('passenger', Integer(), table=<pass_in_trip>), Column('place', Text(), table=<pass_in_trip>), schema=None)"
      ]
     },
     "execution_count": 8,
     "metadata": {},
     "output_type": "execute_result"
    }
   ],
   "source": [
    "pass_in_trip = db.Table(\n",
    "    'pass_in_trip', metadata,\n",
    "    db.Column('id', db.Integer, primary_key=True),\n",
    "    db.Column('trip', db.Integer),\n",
    "    db.Column('passenger', db.Integer),\n",
    "    db.Column('place', db.Text)\n",
    ")\n",
    "pass_in_trip"
   ]
  },
  {
   "cell_type": "code",
   "execution_count": 9,
   "metadata": {},
   "outputs": [
    {
     "data": {
      "text/plain": [
       "Table('trip', MetaData(), Column('id', Integer(), table=<trip>, primary_key=True, nullable=False), Column('company', Text(), table=<trip>), Column('plane', Text(), table=<trip>), Column('town_from', Text(), table=<trip>), Column('town_to', Text(), table=<trip>), Column('time_out', Date(), table=<trip>), Column('time_in', Date(), table=<trip>), schema=None)"
      ]
     },
     "execution_count": 9,
     "metadata": {},
     "output_type": "execute_result"
    }
   ],
   "source": [
    "trip = db.Table(\n",
    "    'trip', metadata,\n",
    "    db.Column('id', db.Integer, primary_key=True),\n",
    "    db.Column('company', db.Text),\n",
    "    db.Column('plane', db.Text),\n",
    "    db.Column('town_from', db.Text),\n",
    "    db.Column('town_to', db.Text),\n",
    "    db.Column('time_out', db.Date),\n",
    "    db.Column('time_in', db.Date)\n",
    ")\n",
    "trip"
   ]
  },
  {
   "cell_type": "code",
   "execution_count": 10,
   "metadata": {},
   "outputs": [
    {
     "data": {
      "text/plain": [
       "Table('company', MetaData(), Column('id', Integer(), table=<company>, primary_key=True, nullable=False), Column('name', Text(), table=<company>), schema=None)"
      ]
     },
     "execution_count": 10,
     "metadata": {},
     "output_type": "execute_result"
    }
   ],
   "source": [
    "company = db.Table(\n",
    "    'company', metadata,\n",
    "    db.Column('id', db.Integer, primary_key=True),\n",
    "    db.Column('name', db.Text)\n",
    ")\n",
    "company"
   ]
  },
  {
   "cell_type": "code",
   "execution_count": 11,
   "metadata": {},
   "outputs": [],
   "source": [
    "metadata.create_all(engine)"
   ]
  },
  {
   "cell_type": "code",
   "execution_count": 56,
   "metadata": {},
   "outputs": [
    {
     "data": {
      "text/plain": [
       "[(1, 'John'),\n",
       " (2, 'Ryan'),\n",
       " (3, 'Matt'),\n",
       " (4, 'Eliad'),\n",
       " (5, 'Diana'),\n",
       " (6, 'Andy'),\n",
       " (7, 'Thomas'),\n",
       " (8, 'Yael')]"
      ]
     },
     "execution_count": 56,
     "metadata": {},
     "output_type": "execute_result"
    }
   ],
   "source": [
    "passenger_insertion = passengers.insert().values([\n",
    "    {'passenger_id': 1, 'passenger_name': 'John'},\n",
    "    {'passenger_id': 2, 'passenger_name': 'Ryan'},\n",
    "    {'passenger_id': 3, 'passenger_name': 'Matt'},\n",
    "    {'passenger_id': 4, 'passenger_name': 'Eliad'},\n",
    "    {'passenger_id': 5, 'passenger_name': 'Diana'},\n",
    "    {'passenger_id': 6, 'passenger_name': 'Andy'},\n",
    "    {'passenger_id': 7, 'passenger_name': 'Thomas'},\n",
    "    {'passenger_id': 8, 'passenger_name': 'Yael'},\n",
    "  ])\n",
    "# conn.execute(passenger_insertion)\n",
    "select_all_passengers = db.select(passengers)\n",
    "passengers_result = conn.execute(select_all_passengers)\n",
    "passengers_result.fetchall()"
   ]
  },
  {
   "cell_type": "code",
   "execution_count": 30,
   "metadata": {},
   "outputs": [
    {
     "data": {
      "text/plain": [
       "[(1, 1, 1, 'Moscow'),\n",
       " (2, 2, 3, 'Kiev'),\n",
       " (3, 3, 6, 'Lisboa'),\n",
       " (4, 4, 4, 'Minsk'),\n",
       " (5, 5, 1, 'Berlin'),\n",
       " (6, 6, 8, 'Paris'),\n",
       " (7, 7, 5, 'Minsk'),\n",
       " (8, 8, 1, 'Vladivostok'),\n",
       " (9, 9, 3, 'Berlin'),\n",
       " (10, 10, 2, 'Moscow'),\n",
       " (11, 11, 4, 'Minsk'),\n",
       " (12, 12, 3, 'Paris'),\n",
       " (13, 13, 7, 'Lisboa'),\n",
       " (14, 14, 1, 'Paris')]"
      ]
     },
     "execution_count": 30,
     "metadata": {},
     "output_type": "execute_result"
    }
   ],
   "source": [
    "pass_in_trip_insertion = pass_in_trip.insert().values([\n",
    "    {'id': 1, 'trip': 1, 'passenger': 1, 'place': 'Moscow'},\n",
    "    {'id': 2, 'trip': 2, 'passenger': 3, 'place': 'Kiev'},\n",
    "    {'id': 3, 'trip': 3, 'passenger': 6, 'place': 'Lisboa'},\n",
    "    {'id': 4, 'trip': 4, 'passenger': 4, 'place': 'Minsk'},\n",
    "    {'id': 5, 'trip': 5, 'passenger': 1, 'place': 'Berlin'},\n",
    "    {'id': 6, 'trip': 6, 'passenger': 8, 'place': 'Paris'},\n",
    "    {'id': 7, 'trip': 7, 'passenger': 5, 'place': 'Minsk'},\n",
    "    {'id': 8, 'trip': 8, 'passenger': 1, 'place': 'Vladivostok'},\n",
    "    {'id': 9, 'trip': 9, 'passenger': 3, 'place': 'Berlin'},\n",
    "    {'id': 10, 'trip': 10, 'passenger': 2, 'place': 'Moscow'},\n",
    "    {'id': 11, 'trip': 11, 'passenger': 4, 'place': 'Minsk'},\n",
    "    {'id': 12, 'trip': 12, 'passenger': 3, 'place': 'Paris'},\n",
    "    {'id': 13, 'trip': 13, 'passenger': 7, 'place': 'Lisboa'},\n",
    "    {'id': 14, 'trip': 14, 'passenger': 1, 'place': 'Paris'}\n",
    "  ])\n",
    "# conn.execute(pass_in_trip_insertion)\n",
    "select_all_trips = db.select(pass_in_trip)\n",
    "trips_result = conn.execute(select_all_trips)\n",
    "trips_result.fetchall()\n"
   ]
  },
  {
   "cell_type": "code",
   "execution_count": 32,
   "metadata": {},
   "outputs": [
    {
     "data": {
      "text/plain": [
       "[(1, 'Belavia', 'Boeing 737', 'Moscow', 'Minsk', datetime.date(2022, 4, 21), datetime.date(2021, 4, 21)),\n",
       " (2, 'Belavia', 'Embraer E-195', 'Kiev', 'Los Angeles', datetime.date(2022, 4, 21), datetime.date(2021, 4, 21)),\n",
       " (3, 'Belavia', 'Boeing 737', 'Minsk', 'Sidney', datetime.date(2024, 4, 21), datetime.date(2021, 4, 21)),\n",
       " (4, 'Belavia', 'Embraer E-195', 'London', 'Bangkok', datetime.date(2023, 4, 21), datetime.date(2021, 4, 21)),\n",
       " (5, 'Belavia', 'Embraer E-195', 'Moscow', 'Minsk', datetime.date(2022, 4, 21), datetime.date(2021, 4, 21)),\n",
       " (6, 'Belavia', 'Boeing 737', 'London', 'Amsterdam', datetime.date(2024, 4, 21), datetime.date(2021, 4, 21)),\n",
       " (7, 'Belavia', 'Boeing 737', 'New York', 'Sharm-el-scheih', datetime.date(2023, 4, 21), datetime.date(2021, 4, 21)),\n",
       " (8, 'Belavia', 'Embraer E-195', 'Minsk', 'Moscow', datetime.date(2023, 4, 21), datetime.date(2021, 4, 21)),\n",
       " (9, 'Belavia', 'Embraer E-195', 'Keiptown', 'Larnaka', datetime.date(2023, 4, 21), datetime.date(2021, 4, 21)),\n",
       " (10, 'Belavia', 'Embraer E-195', 'Moscow', 'Gomel', datetime.date(2023, 4, 21), datetime.date(2021, 4, 21)),\n",
       " (11, 'Belavia', 'Boeing 737', 'Antalia', 'Moscow', datetime.date(2023, 4, 21), datetime.date(2021, 4, 21))]"
      ]
     },
     "execution_count": 32,
     "metadata": {},
     "output_type": "execute_result"
    }
   ],
   "source": [
    "import datetime\n",
    "\n",
    "\n",
    "trip_insertion = trip.insert().values([\n",
    "    {'id': 1, 'company': 'Belavia', 'plane': 'Boeing 737', 'town_to': 'Minsk', 'town_from': 'Moscow', 'time_out': datetime.datetime(2022, 4, 21, 17, 54, 30, 209109), 'time_in': datetime.datetime(2021, 4, 21, 19, 54, 30, 209109)},\n",
    "    {'id': 2, 'company': 'Belavia', 'plane': 'Embraer E-195', 'town_to': 'Los Angeles', 'town_from': 'Kiev', 'time_out': datetime.datetime(2022, 4, 21, 17, 54, 30, 209109), 'time_in': datetime.datetime(2021, 4, 21, 19, 54, 30, 209109)},\n",
    "    {'id': 3, 'company': 'Belavia', 'plane': 'Boeing 737', 'town_to': 'Sidney', 'town_from': 'Minsk', 'time_out': datetime.datetime(2024, 4, 21, 17, 54, 30, 209109), 'time_in': datetime.datetime(2021, 4, 21, 19, 54, 30, 209109)},\n",
    "    {'id': 4, 'company': 'Belavia', 'plane': 'Embraer E-195', 'town_to': 'Bangkok', 'town_from': 'London', 'time_out': datetime.datetime(2023, 4, 21, 17, 54, 30, 209109), 'time_in': datetime.datetime(2021, 4, 21, 19, 54, 30, 209109)},\n",
    "    {'id': 5, 'company': 'Belavia', 'plane': 'Embraer E-195', 'town_to': 'Minsk', 'town_from': 'Moscow', 'time_out': datetime.datetime(2022, 4, 21, 17, 54, 30, 209109), 'time_in': datetime.datetime(2021, 4, 21, 19, 54, 30, 209109)},\n",
    "    {'id': 6, 'company': 'Belavia', 'plane': 'Boeing 737', 'town_to': 'Amsterdam', 'town_from': 'London', 'time_out': datetime.datetime(2024, 4, 21, 17, 54, 30, 209109), 'time_in': datetime.datetime(2021, 4, 21, 19, 54, 30, 209109)},\n",
    "    {'id': 7, 'company': 'Belavia', 'plane': 'Boeing 737', 'town_to': 'Sharm-el-scheih', 'town_from': 'New York', 'time_out': datetime.datetime(2023, 4, 21, 17, 54, 30, 209109), 'time_in': datetime.datetime(2021, 4, 21, 19, 54, 30, 209109)},\n",
    "    {'id': 8, 'company': 'Belavia', 'plane': 'Embraer E-195', 'town_to': 'Moscow', 'town_from': 'Minsk', 'time_out': datetime.datetime(2023, 4, 21, 17, 54, 30, 209109), 'time_in': datetime.datetime(2021, 4, 21, 19, 54, 30, 209109)},\n",
    "    {'id': 9, 'company': 'Belavia', 'plane': 'Embraer E-195', 'town_to': 'Larnaka', 'town_from': 'Keiptown', 'time_out': datetime.datetime(2023, 4, 21, 17, 54, 30, 209109), 'time_in': datetime.datetime(2021, 4, 21, 19, 54, 30, 209109)},\n",
    "    {'id': 10, 'company': 'Belavia', 'plane': 'Embraer E-195', 'town_to': 'Gomel', 'town_from': 'Moscow', 'time_out': datetime.datetime(2023, 4, 21, 17, 54, 30, 209109), 'time_in': datetime.datetime(2021, 4, 21, 19, 54, 30, 209109)},\n",
    "    {'id': 11, 'company': 'Belavia', 'plane': 'Boeing 737', 'town_to': 'Moscow', 'town_from': 'Antalia', 'time_out': datetime.datetime(2023, 4, 21, 17, 54, 30, 209109), 'time_in': datetime.datetime(2021, 4, 21, 19, 54, 30, 209109)},\n",
    "  ])\n",
    "conn.execute(trip_insertion)\n",
    "select_all_trips = db.select(trip)\n",
    "trips_result = conn.execute(select_all_trips)\n",
    "trips_result.fetchall()"
   ]
  },
  {
   "cell_type": "code",
   "execution_count": 33,
   "metadata": {},
   "outputs": [
    {
     "data": {
      "text/plain": [
       "[(1, 'Belavia')]"
      ]
     },
     "execution_count": 33,
     "metadata": {},
     "output_type": "execute_result"
    }
   ],
   "source": [
    "companies_insertion = company.insert().values([\n",
    "    {'id': 1, 'name': 'Belavia'}\n",
    "  ])\n",
    "conn.execute(companies_insertion)\n",
    "select_all_companies = db.select(company)\n",
    "companies_result = conn.execute(select_all_companies)\n",
    "companies_result.fetchall()"
   ]
  },
  {
   "cell_type": "code",
   "execution_count": 55,
   "metadata": {},
   "outputs": [
    {
     "name": "stdout",
     "output_type": "stream",
     "text": [
      "SELECT trip.id, trip.company, trip.plane, trip.town_from, trip.town_to, trip.time_out, trip.time_in \n",
      "FROM trip GROUP BY trip.town_to \n",
      "HAVING trip.town_to = :town_to_1\n"
     ]
    },
    {
     "data": {
      "text/plain": [
       "[(1, 'Belavia', 'Boeing 737', 'Moscow', 'Minsk', datetime.date(2022, 4, 21), datetime.date(2021, 4, 21))]"
      ]
     },
     "execution_count": 55,
     "metadata": {},
     "output_type": "execute_result"
    }
   ],
   "source": [
    "minsk_trips = db.select(trip).group_by(trip.columns.town_to).having(trip.columns.town_to == 'Minsk')\n",
    "print(minsk_trips)\n",
    "select_result = conn.execute(minsk_trips)\n",
    "select_result.fetchall()"
   ]
  },
  {
   "cell_type": "code",
   "execution_count": 74,
   "metadata": {},
   "outputs": [
    {
     "data": {
      "text/plain": [
       "[(1, 'Belavia', 'Boeing 737', 'Moscow', 'Minsk', datetime.date(2022, 4, 21), datetime.date(2021, 4, 21), 1, 1, 1, 'Moscow'),\n",
       " (2, 'Belavia', 'Embraer E-195', 'Kiev', 'Los Angeles', datetime.date(2022, 4, 21), datetime.date(2021, 4, 21), 2, 2, 3, 'Kiev'),\n",
       " (3, 'Belavia', 'Boeing 737', 'Minsk', 'Sidney', datetime.date(2024, 4, 21), datetime.date(2021, 4, 21), 3, 3, 6, 'Lisboa'),\n",
       " (4, 'Belavia', 'Embraer E-195', 'London', 'Bangkok', datetime.date(2023, 4, 21), datetime.date(2021, 4, 21), 4, 4, 4, 'Minsk'),\n",
       " (5, 'Belavia', 'Embraer E-195', 'Moscow', 'Minsk', datetime.date(2022, 4, 21), datetime.date(2021, 4, 21), 5, 5, 1, 'Berlin'),\n",
       " (6, 'Belavia', 'Boeing 737', 'London', 'Amsterdam', datetime.date(2024, 4, 21), datetime.date(2021, 4, 21), 6, 6, 8, 'Paris'),\n",
       " (7, 'Belavia', 'Boeing 737', 'New York', 'Sharm-el-scheih', datetime.date(2023, 4, 21), datetime.date(2021, 4, 21), 7, 7, 5, 'Minsk'),\n",
       " (8, 'Belavia', 'Embraer E-195', 'Minsk', 'Moscow', datetime.date(2023, 4, 21), datetime.date(2021, 4, 21), 8, 8, 1, 'Vladivostok'),\n",
       " (9, 'Belavia', 'Embraer E-195', 'Keiptown', 'Larnaka', datetime.date(2023, 4, 21), datetime.date(2021, 4, 21), 9, 9, 3, 'Berlin'),\n",
       " (10, 'Belavia', 'Embraer E-195', 'Moscow', 'Gomel', datetime.date(2023, 4, 21), datetime.date(2021, 4, 21), 10, 10, 2, 'Moscow'),\n",
       " (11, 'Belavia', 'Boeing 737', 'Antalia', 'Moscow', datetime.date(2023, 4, 21), datetime.date(2021, 4, 21), 11, 11, 4, 'Minsk')]"
      ]
     },
     "execution_count": 74,
     "metadata": {},
     "output_type": "execute_result"
    }
   ],
   "source": [
    "table_join = db.select(trip.join(pass_in_trip, trip.columns.id.like(pass_in_trip.columns.trip)))\n",
    "select_result = conn.execute(table_join)\n",
    "select_result.fetchall()"
   ]
  },
  {
   "cell_type": "code",
   "execution_count": 2,
   "metadata": {},
   "outputs": [],
   "source": [
    "from sqlalchemy import union\n",
    "\n",
    "# table_union = union(db.select(trip), db.select(pass_in_trip))\n",
    "# select_result = conn.execute(table_union)\n",
    "# select_result.fetchall()"
   ]
  }
 ],
 "metadata": {
  "kernelspec": {
   "display_name": "Python 3",
   "language": "python",
   "name": "python3"
  },
  "language_info": {
   "codemirror_mode": {
    "name": "ipython",
    "version": 3
   },
   "file_extension": ".py",
   "mimetype": "text/x-python",
   "name": "python",
   "nbconvert_exporter": "python",
   "pygments_lexer": "ipython3",
   "version": "3.12.1"
  }
 },
 "nbformat": 4,
 "nbformat_minor": 2
}
