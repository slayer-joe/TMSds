{
 "cells": [
  {
   "cell_type": "code",
   "execution_count": 2,
   "metadata": {},
   "outputs": [
    {
     "data": {
      "text/plain": [
       "2.728759899714574"
      ]
     },
     "execution_count": 2,
     "metadata": {},
     "output_type": "execute_result"
    }
   ],
   "source": [
    "# Написать функцию, вычисляющее значение функции при х = 1.79\n",
    "\n",
    "import math\n",
    "\n",
    "def calculate_func(arg):\n",
    "    y = (math.cos(math.radians(math.exp(2))) + math.log(1 + arg) ** 2 + math.sqrt(math.exp(math.radians(math.cos(arg))) + math.sin(math.radians(math.pi * arg)) ** 2)  + math.sqrt(1 / arg)  + math.cos(arg ** 2)) ** math.sin(arg)\n",
    "    return y\n",
    "calculate_func(1.79)"
   ]
  },
  {
   "cell_type": "code",
   "execution_count": 4,
   "metadata": {},
   "outputs": [
    {
     "name": "stdout",
     "output_type": "stream",
     "text": [
      "«Есть контакт!»\n"
     ]
    }
   ],
   "source": [
    "# Напишите функцию search_substr(subst, st), которая принимает 2 строки и\n",
    "# определяет, имеется ли подстрока subst в строке st. В случае нахождения\n",
    "# подстроки, возвращается фраза «Есть контакт!», а иначе «Мимо!». Должно\n",
    "# быть найдено совпадение независимо от регистра обеих строк.\n",
    "\n",
    "def search_substr(subst, st):\n",
    "    try:\n",
    "       if st.lower().index(subst.lower()): print('«Есть контакт!»')\n",
    "    except ValueError:\n",
    "        print('Мимо!!') \n",
    "\n",
    "search_substr('sd', 'asdasdasdasdasd')"
   ]
  },
  {
   "cell_type": "code",
   "execution_count": 10,
   "metadata": {},
   "outputs": [
    {
     "name": "stdout",
     "output_type": "stream",
     "text": [
      "[('а', 12), ('с', 7), ('о', 6)]\n"
     ]
    }
   ],
   "source": [
    "# На основании строки определить 3 наиболее часто встречаемых символа в\n",
    "# ней. Пробелы нужно игнорировать (не учитывать при подсчете). Для простоты\n",
    "# подсчета количества вхождений символов удобно использовать Counter из\n",
    "# модуля collections.\n",
    "\n",
    "from collections import Counter\n",
    "\n",
    "c = Counter()\n",
    "str = 'Вот и наступила осень – самая яркая пора года. Она раскрасила все вокруг в свои любимые цвета.'\n",
    "\n",
    "for sign in str:\n",
    "    if(sign != ' '): c[sign] += 1\n",
    "print(c.most_common(3))"
   ]
  },
  {
   "cell_type": "code",
   "execution_count": 12,
   "metadata": {},
   "outputs": [
    {
     "name": "stdout",
     "output_type": "stream",
     "text": [
      "[('3', 6), ('9', 5), ('7', 4)]\n"
     ]
    },
    {
     "data": {
      "text/plain": [
       "{3: 6, 9: 5, 7: 4}"
      ]
     },
     "execution_count": 12,
     "metadata": {},
     "output_type": "execute_result"
    }
   ],
   "source": [
    "# Дана строка в виде случайной последовательности чисел от 0 до 9. Требуется\n",
    "# создать словарь, который в качестве ключей будет принимать данные числа (т.\n",
    "# е. ключи будут типом int), а в качестве значений – количество этих чисел в\n",
    "# имеющейся последовательности. Для построения словаря создайте функцию\n",
    "# count_it(sequence), принимающую строку из цифр. Функция должна\n",
    "# возвратить словарь из 3-х самых часто встречаемых чисел.\n",
    "\n",
    "from collections import Counter\n",
    "\n",
    "c = Counter()\n",
    "\n",
    "def count_it(sequence):\n",
    "    sign_dict = {}\n",
    "    for sign in sequence:\n",
    "        c[sign] += 1\n",
    "    top_signs = c.most_common(3)\n",
    "    for place in top_signs:\n",
    "        sign_dict[int(place[0])] = place[1]\n",
    "    return sign_dict\n",
    "\n",
    "count_it('0786543298237139725983741092318309')"
   ]
  },
  {
   "cell_type": "code",
   "execution_count": 17,
   "metadata": {},
   "outputs": [
    {
     "name": "stdout",
     "output_type": "stream",
     "text": [
      "kN\n"
     ]
    },
    {
     "data": {
      "text/plain": [
       "False"
      ]
     },
     "execution_count": 17,
     "metadata": {},
     "output_type": "execute_result"
    }
   ],
   "source": [
    "# Шахматы. у вас есть стандартное поле 8*8, после введения координат (a, b)\n",
    "# нахождения вашей фигуры и фигуры соперника (с, d), необходимо получить\n",
    "# ответ, угрожает ли вражеская фигура вам\n",
    "# 1) вражеская фигура ферзь\n",
    "# 2) вражеская фигура конь\n",
    "\n",
    "def is_threaten(figure, coordinates):\n",
    "    for coord in coordinates: \n",
    "        if 0 > coord and coord < 8: return\n",
    "    self_coords = [coordinates[0], coordinates[1]]\n",
    "    enemy_coords= [coordinates[2], coordinates[3]]\n",
    "    if figure == 'Q':\n",
    "        print('Q')\n",
    "        if self_coords[0] == enemy_coords[0] or self_coords[1] == enemy_coords[1]:\n",
    "            return True\n",
    "\n",
    "        else:\n",
    "            return False\n",
    "    if figure == \"kN\":\n",
    "        print('kN')\n",
    "        if self_coords[0] == enemy_coords[0] + 2 and (self_coords[1] == enemy_coords[1] + 1 or self_coords[1] == enemy_coords[1] - 1):\n",
    "            return True\n",
    "        elif self_coords[0] == enemy_coords[0] - 2 and (self_coords[1] == enemy_coords[1] + 1 or self_coords[1] == enemy_coords[1] - 1):\n",
    "            return True\n",
    "        elif self_coords[1] == enemy_coords[1] + 2 and (self_coords[0] == enemy_coords[0] + 1 or self_coords[0] == enemy_coords[0] - 1):\n",
    "            return True\n",
    "        elif self_coords[1] == enemy_coords[1] - 2 and (self_coords[0] == enemy_coords[0] + 1 or self_coords[0] == enemy_coords[0] - 1):\n",
    "            return True\n",
    "        else:\n",
    "            return False\n",
    "is_threaten('kN', [4, 3, 6, 5])"
   ]
  }
 ],
 "metadata": {
  "kernelspec": {
   "display_name": "Python 3",
   "language": "python",
   "name": "python3"
  },
  "language_info": {
   "codemirror_mode": {
    "name": "ipython",
    "version": 3
   },
   "file_extension": ".py",
   "mimetype": "text/x-python",
   "name": "python",
   "nbconvert_exporter": "python",
   "pygments_lexer": "ipython3",
   "version": "3.12.1"
  }
 },
 "nbformat": 4,
 "nbformat_minor": 2
}
