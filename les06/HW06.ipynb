{
 "cells": [
  {
   "cell_type": "code",
   "execution_count": 33,
   "metadata": {},
   "outputs": [
    {
     "data": {
      "text/plain": [
       "('8', '1')"
      ]
     },
     "execution_count": 33,
     "metadata": {},
     "output_type": "execute_result"
    }
   ],
   "source": [
    "# 1. В этом небольшом задании вам дается строка чисел, разделенных пробелами,\n",
    "# и вы должны вернуть наибольшее и наименьшее число.\n",
    "from functools import reduce\n",
    "\n",
    "def min_max_from_list(str):\n",
    "    spaceless_str = str.replace(\" \", \"\")\n",
    "    num_list = list(filter(lambda x: int(x), spaceless_str))\n",
    "   \n",
    "    min_int = reduce(lambda x, y: x if x < y else y, num_list)\n",
    "    max_int = reduce(lambda x, y: x if x > y else y, num_list)\n",
    "    return max_int, min_int\n",
    "\n",
    "min_max_from_list('3 6 1 4 8 1 0 1 3')"
   ]
  },
  {
   "cell_type": "code",
   "execution_count": 35,
   "metadata": {},
   "outputs": [
    {
     "name": "stdout",
     "output_type": "stream",
     "text": [
      "valid pin code\n",
      "please use only numbers\n",
      "invalid pin code\n"
     ]
    },
    {
     "data": {
      "text/plain": [
       "False"
      ]
     },
     "execution_count": 35,
     "metadata": {},
     "output_type": "execute_result"
    }
   ],
   "source": [
    "# 2. Банкоматы допускают использование 4- или 6-значных PIN-кодов, а PIN-коды не\n",
    "# могут содержать ничего, кроме ровно 4 или ровно 6 цифр. Если функции\n",
    "# передана действительная строка PIN-кода, return true, иначе return false\n",
    "\n",
    "def validate_pin(pin_str):\n",
    "    try:\n",
    "        if (len(pin_str) == 4 or len(pin_str) == 6) and int(pin_str):\n",
    "            print('valid pin code')\n",
    "            return True\n",
    "    except ValueError:\n",
    "        print('please use only numbers')\n",
    "        return False\n",
    "    else:\n",
    "        print('invalid pin code')\n",
    "        return False\n",
    "    \n",
    "validate_pin('1576')\n",
    "validate_pin('15h6')\n",
    "validate_pin('15767')"
   ]
  },
  {
   "cell_type": "code",
   "execution_count": 37,
   "metadata": {},
   "outputs": [
    {
     "data": {
      "text/plain": [
       "[4, 9, 16, 25]"
      ]
     },
     "execution_count": 37,
     "metadata": {},
     "output_type": "execute_result"
    }
   ],
   "source": [
    "# 3. Учитывая целое число, определите, является ли оно квадратным : В\n",
    "# математике квадратное число или идеальный квадрат — это целое число,\n",
    "# которое является квадратом целого числа; другими словами, это\n",
    "# произведение некоторого целого числа само на себя. На вход список, на\n",
    "# выходе список чисел\n",
    "\n",
    "def is_num_sqr(num_lst):   \n",
    "    result = list(filter(lambda x: int(x ** 0.5) ** 2 == x, num_lst))\n",
    "    return result\n",
    "\n",
    "is_num_sqr([4, 9, 16, 25, 10])"
   ]
  },
  {
   "cell_type": "code",
   "execution_count": 47,
   "metadata": {},
   "outputs": [
    {
     "data": {
      "text/plain": [
       "['1',\n",
       " '2',\n",
       " '3',\n",
       " '0',\n",
       " '9',\n",
       " '5',\n",
       " '-',\n",
       " '4',\n",
       " '9',\n",
       " '0',\n",
       " '4',\n",
       " '-',\n",
       " '2',\n",
       " '9',\n",
       " '3',\n",
       " '0',\n",
       " '9',\n",
       " '8',\n",
       " '0',\n",
       " '1',\n",
       " '9',\n",
       " '2',\n",
       " '8',\n",
       " '3',\n",
       " '1',\n",
       " '0']"
      ]
     },
     "execution_count": 47,
     "metadata": {},
     "output_type": "execute_result"
    }
   ],
   "source": [
    "# 4. Реализуйте функцию unique_in_order, которая принимает в качестве аргумента\n",
    "# последовательность и возвращает список элементов без каких-либо элементов\n",
    "# с одинаковым значением рядом друг с другом и сохраняет исходный порядок\n",
    "# элементов.\n",
    "\n",
    "\n",
    "def unique_in_order(seq):\n",
    "    return [seq[i] for i in range(len(seq)) if i == 0 or seq[i] != seq[i-1]]\n",
    "\n",
    "unique_in_order('123095-4904-2930009801928310')"
   ]
  },
  {
   "cell_type": "code",
   "execution_count": 48,
   "metadata": {},
   "outputs": [
    {
     "data": {
      "text/plain": [
       "4"
      ]
     },
     "execution_count": 48,
     "metadata": {},
     "output_type": "execute_result"
    }
   ],
   "source": [
    "# 5. Просто, учитывая строку слов, верните длину самого короткого слова (слов).\n",
    "# Строка никогда не будет пустой, и вам не нужно учитывать разные типы данных.\n",
    "\n",
    "def shortest(str):\n",
    "    words = str.split()\n",
    "    min_len = min(map(len, words))\n",
    "    return min_len\n",
    "\n",
    "shortest('asdasd gfghfgh sfwe fsdf sfqaa')"
   ]
  },
  {
   "cell_type": "code",
   "execution_count": 58,
   "metadata": {},
   "outputs": [
    {
     "data": {
      "text/plain": [
       "2"
      ]
     },
     "execution_count": 58,
     "metadata": {},
     "output_type": "execute_result"
    }
   ],
   "source": [
    "# Цифровой корень — это рекурсивная сумма всех цифр числа. Учитывая n,\n",
    "# возьмите сумму цифр n. Если это значение имеет более одной цифры,\n",
    "# продолжайте уменьшать таким образом, пока не получите однозначное число.\n",
    "# Входные данные будут неотрицательным целым числом.\n",
    "\n",
    "def num_sqrt(num):\n",
    "    if num > 9:\n",
    "        while len(str(num)) > 1:\n",
    "            num = reduce(lambda x, y: int(x) + int(y), str(num))\n",
    "    return num\n",
    "num_sqrt(1323452)\n"
   ]
  },
  {
   "cell_type": "code",
   "execution_count": 66,
   "metadata": {},
   "outputs": [
    {
     "data": {
      "text/plain": [
       "'s'"
      ]
     },
     "execution_count": 66,
     "metadata": {},
     "output_type": "execute_result"
    }
   ],
   "source": [
    "# 7. Вам будет предоставлено слово. Ваша задача — вернуть средний символ\n",
    "# слова. Если длина слова нечетная, верните средний символ. Если длина слова\n",
    "# четная, верните 2 средних символа.\n",
    "\n",
    "import math\n",
    "\n",
    "def mid_symb(word):\n",
    "    if len(word) % 2 == 0:\n",
    "        return word[int(len(word) / 2 - 1)], word[int(len(word) / 2)]\n",
    "    else:\n",
    "        return word[math.ceil(len(word) / 2) - 1]\n",
    "\n",
    "mid_symb('asdsasd')"
   ]
  },
  {
   "cell_type": "code",
   "execution_count": 70,
   "metadata": {},
   "outputs": [
    {
     "data": {
      "text/plain": [
       "False"
      ]
     },
     "execution_count": 70,
     "metadata": {},
     "output_type": "execute_result"
    }
   ],
   "source": [
    "# 8. Определите функцию, которая принимает целочисленный аргумент и\n",
    "# возвращает логическое значение trueили falseв зависимости от того, является\n",
    "# ли целое число простым.\n",
    "\n",
    "def is_simple_num(num):\n",
    "    for i in range(2, num):\n",
    "        if num % i == 0:\n",
    "            return False\n",
    "    return True\n",
    "\n",
    "is_simple_num(12)"
   ]
  },
  {
   "cell_type": "code",
   "execution_count": 72,
   "metadata": {},
   "outputs": [
    {
     "data": {
      "text/plain": [
       "True"
      ]
     },
     "execution_count": 72,
     "metadata": {},
     "output_type": "execute_result"
    }
   ],
   "source": [
    "# 9. Учитывая список целых чисел, определите, является ли сумма его элементов\n",
    "# нечетной или четной\n",
    "\n",
    "def is_sum_even(lst):\n",
    "    return reduce(lambda x, y: x + y, lst) % 2 == 0\n",
    "\n",
    "is_sum_even([1, 3, 6, 3, 11])"
   ]
  }
 ],
 "metadata": {
  "kernelspec": {
   "display_name": "Python 3",
   "language": "python",
   "name": "python3"
  },
  "language_info": {
   "codemirror_mode": {
    "name": "ipython",
    "version": 3
   },
   "file_extension": ".py",
   "mimetype": "text/x-python",
   "name": "python",
   "nbconvert_exporter": "python",
   "pygments_lexer": "ipython3",
   "version": "3.12.1"
  }
 },
 "nbformat": 4,
 "nbformat_minor": 2
}
